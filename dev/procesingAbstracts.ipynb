{
 "cells": [
  {
   "cell_type": "code",
   "execution_count": 1,
   "metadata": {},
   "outputs": [],
   "source": [
    "# !pip install pandas"
   ]
  },
  {
   "cell_type": "code",
   "execution_count": 2,
   "metadata": {},
   "outputs": [],
   "source": [
    "# Import libraries\n",
    "import spacy\n",
    "from nltk.corpus import stopwords\n",
    "from collections import Counter\n",
    "import nltk\n",
    "from scispacy.linking import EntityLinker\n",
    "import scispacy\n",
    "from tqdm import tqdm\n",
    "import re\n",
    "import unicodedata\n",
    "import os\n",
    "import logging\n",
    "import chardet\n",
    "from collections import OrderedDict\n",
    "import pandas as pd\n",
    "\n",
    "\n",
    "\n",
    "%matplotlib inline\n",
    "import matplotlib.pyplot as plt"
   ]
  },
  {
   "cell_type": "code",
   "execution_count": 3,
   "metadata": {},
   "outputs": [
    {
     "name": "stderr",
     "output_type": "stream",
     "text": [
      "/home/skanda/.local/lib/python3.10/site-packages/spacy/language.py:2195: FutureWarning: Possible set union at position 6328\n",
      "  deserializers[\"tokenizer\"] = lambda p: self.tokenizer.from_disk(  # type: ignore[union-attr]\n",
      "/home/skanda/.local/lib/python3.10/site-packages/sklearn/base.py:376: InconsistentVersionWarning: Trying to unpickle estimator TfidfTransformer from version 1.1.2 when using version 1.5.1. This might lead to breaking code or invalid results. Use at your own risk. For more info please refer to:\n",
      "https://scikit-learn.org/stable/model_persistence.html#security-maintainability-limitations\n",
      "  warnings.warn(\n",
      "/home/skanda/.local/lib/python3.10/site-packages/sklearn/base.py:376: InconsistentVersionWarning: Trying to unpickle estimator TfidfVectorizer from version 1.1.2 when using version 1.5.1. This might lead to breaking code or invalid results. Use at your own risk. For more info please refer to:\n",
      "https://scikit-learn.org/stable/model_persistence.html#security-maintainability-limitations\n",
      "  warnings.warn(\n"
     ]
    },
    {
     "name": "stdout",
     "output_type": "stream",
     "text": [
      "Setup completed.\n"
     ]
    }
   ],
   "source": [
    "# # nltk.download('punkt')\n",
    "# nltk.download('stopwords')\n",
    "stop_words = set(stopwords.words('english'))\n",
    "\n",
    "nlp = spacy.load(\"en_core_sci_md\")\n",
    "nlp.add_pipe(\"scispacy_linker\", last=True)\n",
    "\n",
    "\n",
    "\n",
    "print(\"Setup completed.\")"
   ]
  },
  {
   "cell_type": "markdown",
   "metadata": {},
   "source": [
    "## **Text Preprocessing**"
   ]
  },
  {
   "cell_type": "markdown",
   "metadata": {},
   "source": [
    "## **Text Cleaning**"
   ]
  },
  {
   "cell_type": "code",
   "execution_count": 4,
   "metadata": {},
   "outputs": [],
   "source": [
    "def clean_pdf_text(text):\n",
    "    # Reassemble hyphenated words\n",
    "    text = re.sub(r'(\\w+)-\\s*\\n\\s*(\\w+)', r'\\1\\2', text)\n",
    "    text = re.sub(r'^[A-Z][a-zA-Z\\s]+[0-9]{4};[0-9]+:[0-9]+–[0-9]+$', '', text, flags=re.MULTILINE)\n",
    "    text = re.sub(r'^\\s*\\d+\\s*\\|\\s*\\d+\\s*$', '', text, flags=re.MULTILINE)  # Page numbers\n",
    "    text = re.sub(r'^(https?:\\/\\/)?(www\\.)?[a-zA-Z0-9\\-\\.]+\\.[a-zA-Z]{2,}(\\/\\S*)?$', '', text, flags=re.MULTILINE)  # URLs\n",
    "\n",
    "    # Remove short lines that are likely headers or footers (less than 50 characters)\n",
    "    text = re.sub(r'^\\s*[\\w\\s]{1,50}\\s*$', '', text, flags=re.MULTILINE)\n",
    "\n",
    "    # Replace newlines that are not followed by another newline with a space\n",
    "    text = re.sub(r'(?<!\\n)\\n(?!\\n)', ' ', text)\n",
    "\n",
    "    # Replace multiple newlines with a single newline to preserve paragraphs\n",
    "    text = re.sub(r'\\n{2,}', '\\n\\n', text)\n",
    "\n",
    "    # Normalize spaces\n",
    "    text = re.sub(r'\\s{2,}', ' ', text)  # Collapse multiple spaces into one\n",
    "    return text\n",
    "\n",
    "def remove_urls(text):\n",
    "    # Remove URLs\n",
    "    text = re.sub(r'http\\S+|www\\S+|https\\S+', '', text, re.IGNORECASE)\n",
    "    # Remove HTML tags\n",
    "    text = re.sub(r'<.*?>', '', text)\n",
    "    return text\n",
    "\n",
    "def remove_emails(text):\n",
    "    # Pattern to match inline email addresses and lines starting with \"E-mail:\"\n",
    "    email_pattern = r'\\b[A-Za-z0-9._%+-]+@[A-Za-z0-9.-]+\\.[A-Z|a-z]{2,}\\b'\n",
    "    email_line_pattern = r'^E-mail:.*$'\n",
    "    \n",
    "    # Remove lines that start with \"E-mail:\"\n",
    "    text = re.sub(email_line_pattern, '', text, flags=re.IGNORECASE)\n",
    "\n",
    "    # Remove inline email addresses\n",
    "    text = re.sub(email_pattern, '', text, flags=re.IGNORECASE)\n",
    "    return text\n",
    "\n",
    "\n",
    "\n",
    "def remove_figures_tables(text):\n",
    "    return re.sub(r'\\b(figures?|tables?)\\b', '', text)\n",
    "\n",
    "# def remove_numerical_references(text):\n",
    "#     return re.sub(r'\\[\\d+\\]', '', text)\n",
    "\n",
    "def remove_citations(text):\n",
    "    # Define patterns to match typical citation formats\n",
    "    patterns = [\n",
    "        r'\\b[A-Z][a-z]+\\s+[A-Z][a-z]+\\s+[A-Z][a-z]+\\s+et\\s+al\\.',  # Matches \"Smith John Doe et al.\"\n",
    "        r'\\b[A-Z][a-z]+\\s+[A-Z][a-z]+\\s+et\\s+al\\.',  # Matches \"Smith John et al.\"\n",
    "        r'\\b[A-Z][a-z]+\\s+et\\s+al\\.',  # Matches \"Smith et al.\"\n",
    "        r'\\(\\s*et\\s+al\\.\\s*,?\\s*\\d{4}\\s*\\)',  # Matches \"(et al., 2024)\"\n",
    "        r'\\[\\d+\\]',  # Matches \"[1]\"\n",
    "        r'\\(\\d{4}[a-z]?(?:,\\s*\\d{4}[a-z]?)*\\)',  # Matches \"(2024, 2025a)\"\n",
    "        r'\\b(?:19|20)\\d{2}[a-z]?\\b',  # Matches years like \"2024\" or \"2024a\"\n",
    "    ]\n",
    "\n",
    "    for pattern in patterns:\n",
    "        text = re.sub(pattern, '', text, flags=re.MULTILINE | re.IGNORECASE)\n",
    "    return text\n",
    "\n",
    "# def remove_headers(text):\n",
    "#     # Remove lines that are all uppercase and end with a colon\n",
    "#     text = re.sub(r'^[A-Z\\s]+:$', '', text, flags=re.MULTILINE| re.IGNORECASE)\n",
    "#     # Remove lines that start with bullet points\n",
    "#     text = re.sub(r'^\\s*•.*$', '', text, flags=re.MULTILINE| re.IGNORECASE)\n",
    "#     return text\n",
    "\n",
    "# def remove_metadata(text):\n",
    "#     # Remove headers, copyright info, DOI, received/accepted dates\n",
    "#     patterns = [\n",
    "#         r'^.*?©Copyright.*$',\n",
    "#         r'^DOI:.*$',\n",
    "#         r'^Received:.*$',\n",
    "#         r'^Accepted:.*$',\n",
    "#         r'^Address for Correspondence:.*$',\n",
    "\n",
    "#         r'^ORCID-ID:.*$',\n",
    "#         r'^\\s*\\d+\\s*$',  # Page numbers\n",
    "#         r'^.*?ORCID:.*$',\n",
    "#         r'^Cite this article as:.*$',\n",
    "#         r'This is an open access article.*$',\n",
    "#         r'^.*?\\d{4};\\d+:\\d+–\\d+', \n",
    "#         r'\\[\\s*[^\\w\\s]*\\s*\\]'\n",
    "#     ]\n",
    "#     for pattern in patterns:\n",
    "#         text = re.sub(pattern, '', text, re.IGNORECASE)\n",
    "#     return text\n",
    "\n",
    "def handle_special_characters(text):\n",
    "    \"\"\"Handle special characters and Unicode normalization.\"\"\"\n",
    "    text = unicodedata.normalize('NFKD', text).encode('ASCII', 'ignore').decode('ASCII')\n",
    "    char_map = {\n",
    "        '´': \"'\", '‘': \"'\", '’': \"'\", '“': '\"', '”': '\"', '–': '-', '—': '-', '…': '...'\n",
    "    }\n",
    "    for char, replacement in char_map.items():\n",
    "        text = text.replace(char, replacement)\n",
    "    return text\n",
    "\n",
    "\n",
    "def remove_references(text):\n",
    "    # Define common markers for the start of a references section\n",
    "    markers = [\n",
    "        r'\\bReferences\\b',\n",
    "        r'\\bBibliography\\b',\n",
    "        r'\\bWorks Cited\\b',\n",
    "        r'\\bLiterature Cited\\b'\n",
    "    ]\n",
    "    \n",
    "    # Combine markers into a single pattern\n",
    "    combined_pattern = re.compile(r'(' + '|'.join(markers) + r')\\s*$', re.IGNORECASE)\n",
    "    \n",
    "    # Find all occurrences of the references markers\n",
    "    matches = list(combined_pattern.finditer(text))\n",
    "    \n",
    "    if matches:\n",
    "        # If matches are found, take the last one and remove everything after it\n",
    "        text = text[:matches[-1].start()].strip()\n",
    "    else:\n",
    "        # If no specific markers, look for typical reference formatting (e.g., numbered references)\n",
    "        reference_format_pattern = re.compile(r'\\d+\\.\\s+[A-Za-z]+[\\s\\w,]*\\.\\s+\\d{4};\\d+\\([\\d\\-]+\\):\\d+\\-\\d+', re.MULTILINE)\n",
    "        matches = list(reference_format_pattern.finditer(text))\n",
    "        \n",
    "        if matches:\n",
    "            # If multiple matches, assume the last one marks the start of the reference section\n",
    "            text = text[:matches[-1].start()].strip()\n",
    "\n",
    "    return text\n",
    "\n",
    "\n",
    "def detect_sentence_boundaries(text):\n",
    "    \"\"\"\n",
    "    Detect sentence boundaries using spaCy.\n",
    "    \"\"\"\n",
    "    doc = nlp(text)\n",
    "    spacy_sentences = [sent.text for sent in doc.sents]\n",
    "    return spacy_sentences  # Return as a list of sentences"
   ]
  },
  {
   "cell_type": "code",
   "execution_count": 5,
   "metadata": {},
   "outputs": [],
   "source": [
    "def count_words(text: str) -> int:\n",
    "    return len(text.split())"
   ]
  },
  {
   "cell_type": "code",
   "execution_count": 6,
   "metadata": {},
   "outputs": [],
   "source": [
    "def preprocess_text(text):\n",
    "    try:\n",
    "        # Input validation\n",
    "        if not isinstance(text, (str, bytes)):\n",
    "            raise TypeError('Expected a string or bytes-like object')\n",
    "\n",
    "        print(f\"Starting preprocessing... Initial word count: {count_words(text)}\")\n",
    "\n",
    "        # Step 1: Initial text cleaning\n",
    "        cleaned_text = clean_pdf_text(text)\n",
    "        print(f\"Word count after clean_pdf_text: {count_words(cleaned_text)}\")\n",
    "\n",
    "        cleaned_text = remove_urls(cleaned_text)\n",
    "        print(f\"Word count after remove_urls: {count_words(cleaned_text)}\")\n",
    "\n",
    "        cleaned_text = remove_emails(cleaned_text)\n",
    "        print(f\"Word count after remove_emails: {count_words(cleaned_text)}\")\n",
    "\n",
    "        cleaned_text = remove_figures_tables(cleaned_text)\n",
    "        print(f\"Word count after remove_figures_tables: {count_words(cleaned_text)}\")\n",
    "\n",
    "        # cleaned_text = remove_numerical_references(cleaned_text)\n",
    "        cleaned_text = remove_citations(cleaned_text)\n",
    "        print(f\"Word count after remove_citations: {count_words(cleaned_text)}\")\n",
    "\n",
    "        # cleaned_text = remove_headers(cleaned_text)\n",
    "        # print(f\"Word count after remove_headers: {count_words(cleaned_text)}\")\n",
    "\n",
    "        # cleaned_text = remove_metadata(cleaned_text)\n",
    "        # print(f\"Word count after remove_metadata: {count_words(cleaned_text)}\")\n",
    "\n",
    "        cleaned_text = handle_special_characters(cleaned_text)\n",
    "        print(f\"Word count after handle_special_characters: {count_words(cleaned_text)}\")\n",
    "\n",
    "        cleaned_text = remove_references(cleaned_text)\n",
    "        print(f\"Word count after remove_references: {count_words(cleaned_text)}\")\n",
    "\n",
    "        # Detect sentence boundaries and join sentences back into a single string\n",
    "        cleaned_text = ' '.join(detect_sentence_boundaries(cleaned_text))\n",
    "        print(f\"Final word count after detect_sentence_boundaries: {count_words(cleaned_text)}\")\n",
    "\n",
    "        return cleaned_text\n",
    "\n",
    "    except TypeError as te:\n",
    "        logging.error(f\"TypeError in preprocess_text: {te}\")\n",
    "        return None\n",
    "    except Exception as e:\n",
    "        logging.error(f\"Error in preprocess_text: {e}\")\n",
    "        return None\n"
   ]
  },
  {
   "cell_type": "code",
   "execution_count": 7,
   "metadata": {},
   "outputs": [],
   "source": [
    "def extract_abstract_and_main_text(cleaned_text):\n",
    "    \"\"\"Extracts the abstract from the text using refined regex patterns for length and structure.\"\"\"\n",
    "    # Patterns for potential abstract start\n",
    "    abstract_start_patterns = [\n",
    "        r'\\b(Abstract|Synopsis|Summary|Overview)\\b',  # Specific abstract headers\n",
    "        r'^[A-Z][^.!?]*?\\s+.*?[.!?]',  # Fallback for a capitalized sentence\n",
    "    ]\n",
    "\n",
    "    # Patterns for potential abstract end, prioritized\n",
    "    abstract_end_patterns = [\n",
    "        r'\\b(Keywords|Key words)\\b',  # Prioritize Keywords as the end of the abstract\n",
    "        r'\\bINTRODUCTION\\b'           # Use Introduction if Keywords is not found\n",
    "    ]\n",
    "\n",
    "    abstract_start = None\n",
    "    abstract_end = None\n",
    "\n",
    "    # Find the start of the abstract\n",
    "    for pattern in abstract_start_patterns:\n",
    "        match = re.search(pattern, cleaned_text, re.IGNORECASE | re.MULTILINE)\n",
    "        if match:\n",
    "            abstract_start = match.start()\n",
    "            break\n",
    "\n",
    "    # If no explicit abstract start is found, fallback strategy\n",
    "    if abstract_start is None:\n",
    "        # Extract the first paragraph as a potential abstract\n",
    "        paragraphs = re.split(r'\\n{2,}', cleaned_text.strip())\n",
    "        abstract = paragraphs[0].strip() + \" (Assumed abstract)\"\n",
    "        return abstract, cleaned_text.strip()\n",
    "\n",
    "    # Search for the end of the abstract, prioritizing \"Keywords\" over \"Introduction\"\n",
    "    for pattern in abstract_end_patterns:\n",
    "        match = re.search(pattern, cleaned_text[abstract_start:], re.IGNORECASE)\n",
    "        if match:\n",
    "            abstract_end = abstract_start + match.start()\n",
    "            break\n",
    "\n",
    "    # If no end is found, limit the abstract to 300 words\n",
    "    if abstract_end is None:\n",
    "        words = cleaned_text[abstract_start:].split()\n",
    "        abstract_end = abstract_start + len(' '.join(words[:300]))\n",
    "\n",
    "    # Extract the abstract\n",
    "    abstract = cleaned_text[abstract_start:abstract_end].strip()\n",
    "\n",
    "    # Extract the main text starting from the end of the abstract\n",
    "    main_text = cleaned_text[abstract_end:].strip()\n",
    "\n",
    "    return abstract, main_text"
   ]
  },
  {
   "cell_type": "code",
   "execution_count": 8,
   "metadata": {},
   "outputs": [],
   "source": [
    "def extract_umls_entities(abstract):\n",
    "    doc = nlp(abstract)\n",
    "    entities = []\n",
    "    for ent in doc.ents:\n",
    "        if ent._.kb_ents:\n",
    "            top_concept = ent._.kb_ents[0]\n",
    "            entities.append({\n",
    "                \"text\": ent.text,\n",
    "                \"label\": ent.label_,\n",
    "                \"concept_id\": top_concept[0],\n",
    "                \"score\": top_concept[1],\n",
    "                \"start\": ent.start_char,\n",
    "                \"end\": ent.end_char\n",
    "            })\n",
    "    return entities"
   ]
  },
  {
   "cell_type": "code",
   "execution_count": 9,
   "metadata": {},
   "outputs": [],
   "source": [
    "def process_files(input_folder_path: str, output_folder_path: str, entities_path: str, batch_size: int = 2) -> None:\n",
    "    if not os.path.exists(output_folder_path):\n",
    "        os.makedirs(output_folder_path)\n",
    "\n",
    "    if not os.path.exists(entities_path):\n",
    "        os.makedirs(entities_path)\n",
    "\n",
    "    files = [f for f in os.listdir(input_folder_path) if f.endswith('.txt')]\n",
    "    total_files = len(files)\n",
    "\n",
    "    all_entities = []\n",
    "    word_counts = {}\n",
    "\n",
    "    for i in range(0, total_files, batch_size):\n",
    "        batch = files[i:i+batch_size]\n",
    "        print(f\"\\nProcessing batch {i//batch_size + 1} of {(total_files-1)//batch_size + 1}\")\n",
    "\n",
    "        for filename in tqdm(batch, desc=f\"Batch {i//batch_size + 1}\"):\n",
    "            input_file_path = os.path.join(input_folder_path, filename)\n",
    "            output_file_path = os.path.join(output_folder_path, f\"processed_{filename}\")\n",
    "\n",
    "            print(f\"\\nProcessing file: {filename}\")\n",
    "\n",
    "            try:\n",
    "                with open(input_file_path, 'rb') as file:\n",
    "                    raw_data = file.read()\n",
    "                    result = chardet.detect(raw_data)\n",
    "                    detected_encoding = result['encoding']\n",
    "                    confidence = result['confidence']\n",
    "\n",
    "                print(f\"Detected encoding: {detected_encoding} with confidence: {confidence}\")\n",
    "\n",
    "                encoding_to_use = detected_encoding if detected_encoding else 'utf-8'\n",
    "\n",
    "                with open(input_file_path, 'r', encoding=encoding_to_use) as file:\n",
    "                    original_text = file.read()\n",
    "\n",
    "                if not isinstance(original_text, str):\n",
    "                    raise ValueError(\"File content is not a valid string.\")\n",
    "\n",
    "  \n",
    "\n",
    "                # Count words in the cleaned text\n",
    "                original_word_count = count_words(original_text)\n",
    "\n",
    "                # Preprocess the original text\n",
    "                cleaned_text = preprocess_text(original_text)\n",
    "\n",
    "                # Extract abstract and main text using cleaned text\n",
    "                abstract, main_text = extract_abstract_and_main_text(cleaned_text)\n",
    "\n",
    "                abstract_entities = extract_umls_entities(abstract)\n",
    "                all_entities.extend([{**entity, \"filename\": filename} for entity in abstract_entities])\n",
    "\n",
    "\n",
    "                # Count words in the preprocessed text\n",
    "                preprocessed_word_count = count_words(cleaned_text)\n",
    "\n",
    "\n",
    "\n",
    "                # Prepare output text\n",
    "                output_text = f\"Abstract:\\n{abstract}\\n\\nMain Text:\\n{main_text}\"\n",
    "\n",
    "\n",
    "                print(f\"Original Word Count: {original_word_count}\")\n",
    "                print(f\"Preprocessed Word Count: {preprocessed_word_count}\")\n",
    "                print(f\"Output text for {filename}: {output_text[:1000]}\")\n",
    "\n",
    "                # Write the cleaned text and abstract to the output file\n",
    "                with open(output_file_path, 'w', encoding='utf-8') as file:\n",
    "                    file.write(output_text)\n",
    "\n",
    "                # Store word counts\n",
    "                word_counts[filename] = {\n",
    "                    \"original\": original_word_count,\n",
    "                    \"preprocessed\": preprocessed_word_count\n",
    "                }\n",
    "\n",
    "            except Exception as e:\n",
    "                logging.error(f\"Error processing file {filename}: {str(e)}\")\n",
    "\n",
    "    # Save the extracted entities to a CSV file\n",
    "    entities_df = pd.DataFrame(all_entities)\n",
    "    entities_df.to_csv(os.path.join(entities_path, 'abstract_umls_entities.csv'), index=False)\n",
    "\n",
    "    # Save word counts to a CSV file\n",
    "    word_counts_df = pd.DataFrame.from_dict(word_counts, orient='index')\n",
    "    word_counts_df.to_csv(os.path.join(output_folder_path, 'word_counts.csv'))\n",
    "\n",
    "    print(\"\\nProcessing completed.\")"
   ]
  },
  {
   "cell_type": "code",
   "execution_count": 10,
   "metadata": {},
   "outputs": [
    {
     "name": "stdout",
     "output_type": "stream",
     "text": [
      "\n",
      "Processing batch 1 of 26\n"
     ]
    },
    {
     "name": "stderr",
     "output_type": "stream",
     "text": [
      "Batch 1:   0%|          | 0/2 [00:00<?, ?it/s]"
     ]
    },
    {
     "name": "stdout",
     "output_type": "stream",
     "text": [
      "\n",
      "Processing file: 1-s2.0-S1350946221000367-main.txt\n",
      "Detected encoding: utf-8 with confidence: 0.99\n",
      "Starting preprocessing... Initial word count: 21288\n",
      "Word count after clean_pdf_text: 21001\n",
      "Word count after remove_urls: 21000\n",
      "Word count after remove_emails: 20999\n",
      "Word count after remove_figures_tables: 20999\n",
      "Word count after remove_citations: 20383\n",
      "Word count after handle_special_characters: 20385\n",
      "Word count after remove_references: 20385\n"
     ]
    },
    {
     "name": "stderr",
     "output_type": "stream",
     "text": [
      "Batch 1:  50%|█████     | 1/2 [00:04<00:04,  4.07s/it]"
     ]
    },
    {
     "name": "stdout",
     "output_type": "stream",
     "text": [
      "Final word count after detect_sentence_boundaries: 20385\n",
      "Original Word Count: 21288\n",
      "Preprocessed Word Count: 20385\n",
      "Output text for 1-s2.0-S1350946221000367-main.txt: Abstract:\n",
      "overview of existing modalities of retinal gene therapy and their relevance based on the needs of patient populations suffering from inherited retinal degenerations. 1.\n",
      "\n",
      "Main Text:\n",
      "Introduction 1.1. Why gene therapy? Why now? Gene therapy that is broadly defined as the use of exogenous DNA to treat human disease has been proposed as a potential medical intervention over five decades ago (Aposhian,  ). Gene therapy offers a theoretical advantage over small molecules classically used as medi - cines: it is a one-shot treatment that can provide a durable and poten - tially curative clinical benefit. The journey from concept to clinical application has been long, including the development of an experi - mental approach around the identified medical needs. The first appli - cations were evidently in vitro where cells to be genetically modified were removed from the body then re administered to patients( Fischer, Hacein-Bey-Abina and Cavazzana-Calvo,  ). The development of gene del\n",
      "\n",
      "Processing file: iovs-63-2-11.txt\n",
      "Detected encoding: utf-8 with confidence: 0.99\n",
      "Starting preprocessing... Initial word count: 6024\n",
      "Word count after clean_pdf_text: 5828\n",
      "Word count after remove_urls: 4693\n",
      "Word count after remove_emails: 4693\n",
      "Word count after remove_figures_tables: 4693\n",
      "Word count after remove_citations: 4680\n",
      "Word count after handle_special_characters: 4679\n",
      "Word count after remove_references: 4679\n",
      "Final word count after detect_sentence_boundaries: 4696\n"
     ]
    },
    {
     "name": "stderr",
     "output_type": "stream",
     "text": [
      "Batch 1: 100%|██████████| 2/2 [00:05<00:00,  2.84s/it]\n"
     ]
    },
    {
     "name": "stdout",
     "output_type": "stream",
     "text": [
      "Original Word Count: 6024\n",
      "Preprocessed Word Count: 4696\n",
      "Output text for iovs-63-2-11.txt: Abstract:\n",
      "Impact of Next Generation Sequencing in Unraveling the Marta Del Pozo-Valero,1,2Rosa Riveiro-Alvarez,1,2Inmaculada Martin-Merida,1,2 Fiona Blanco-Kelly,1,2Saoud Swafiri,1,2Isabel Lorda-Sanchez,1,2Maria Jose Trujillo-Tiebas,1,2 Ester Carreno,3Belen Jimenez-Rolando,3Blanca Garcia-Sandoval,2,3Marta Corton,1,2 Almudena Avila-Fernandez,1,2a n dC a r m e nA y u s o1,2 1Department of Genetics, Instituto de Investigacion SanitariaFundacion Jimenez Diaz University Hospital, Universidad Autonoma de Madrid (IIS-FJD, UAM), Madrid, Spain 2Center for Biomedical Network Research on Rare Diseases (CIBERER), ISCIII, Madrid, Spain 3Department of Ophthalmology, Instituto de Investigacion SanitariaFundacion Jimenez Diaz University Hospital, Universidad Autonoma de Madrid (IIS-FJD, UAM), Madrid, Spain Correspondence: Carmen Ayuso, Servicio de Genetica, Instituto de Investigacion Sanitaria-Fundacion Jimenez Diaz, Universidad Autonoma de Madrid, Av. Reyes Catolicos, 2. Madrid 28040, Spain; . Receiv\n",
      "\n",
      "Processing batch 2 of 26\n"
     ]
    },
    {
     "name": "stderr",
     "output_type": "stream",
     "text": [
      "Batch 2:   0%|          | 0/2 [00:00<?, ?it/s]"
     ]
    },
    {
     "name": "stdout",
     "output_type": "stream",
     "text": [
      "\n",
      "Processing file: TJP-600-4623.txt\n",
      "Detected encoding: utf-8 with confidence: 0.99\n",
      "Starting preprocessing... Initial word count: 6490\n",
      "Word count after clean_pdf_text: 6194\n",
      "Word count after remove_urls: 6194\n",
      "Word count after remove_emails: 6194\n",
      "Word count after remove_figures_tables: 6193\n",
      "Word count after remove_citations: 6059\n",
      "Word count after handle_special_characters: 6049\n",
      "Word count after remove_references: 6049\n"
     ]
    },
    {
     "name": "stderr",
     "output_type": "stream",
     "text": [
      "Batch 2:  50%|█████     | 1/2 [00:01<00:01,  1.22s/it]"
     ]
    },
    {
     "name": "stdout",
     "output_type": "stream",
     "text": [
      "Final word count after detect_sentence_boundaries: 6065\n",
      "Original Word Count: 6490\n",
      "Preprocessed Word Count: 6065\n",
      "Output text for TJP-600-4623.txt: Abstract:\n",
      "Abstract Inheritedretinaldegenerationssuchasretinitispigmentosa(RP)affectaroundonein 4000 people and are the leading cause of blindness in working age adults in several countries. In these typically monogenic conditions, there is progressive degeneration of photoreceptors; however ,innerretinalneuronssuchasbipolarcellsandganglioncellsremainlargelystructurally intact, even in end-stage disease. Therapeutic approaches aiming to stimulate these residual cells, independent of the underlying genetic cause, could potentially restore visual function in Samantha de Silva is a consultant ophthalmologist at the Oxford Eye Hospital and honorary research associate at the University of Oxford and UCL Institute of Ophthalmology. After graduating from the Universities of Cambridge and Oxford, she was awarded a Wellcome Trust fellowship and undertook prize-winning research into optogenetic gene therapy. This was followed by two subspecialist f e l l o w s h i p si ni n h e r i t e dr e t i n\n",
      "\n",
      "Processing file: jcm-12-06953.txt\n",
      "Detected encoding: utf-8 with confidence: 0.99\n",
      "Starting preprocessing... Initial word count: 12151\n",
      "Word count after clean_pdf_text: 12062\n",
      "Word count after remove_urls: 12061\n",
      "Word count after remove_emails: 12060\n",
      "Word count after remove_figures_tables: 12060\n",
      "Word count after remove_citations: 11866\n",
      "Word count after handle_special_characters: 11864\n",
      "Word count after remove_references: 11864\n"
     ]
    },
    {
     "name": "stderr",
     "output_type": "stream",
     "text": [
      "Batch 2: 100%|██████████| 2/2 [00:03<00:00,  1.85s/it]\n"
     ]
    },
    {
     "name": "stdout",
     "output_type": "stream",
     "text": [
      "Final word count after detect_sentence_boundaries: 11865\n",
      "Original Word Count: 12151\n",
      "Preprocessed Word Count: 11865\n",
      "Output text for jcm-12-06953.txt: Abstract:\n",
      "Abstract: Inherited retinal dystrophies encompass a diverse group of disorders affecting the structure and function of the retina, leading to progressive visual impairment and, in severe cases, blindness. Electrophysiology testing has emerged as a valuable tool in assessing and diagnosing those conditions, offering insights into the function of different parts of the visual pathway from retina to visual cortex and aiding in disease classification. This review provides an overview of the application of electrophysiology testing in the non-macular inherited retinal dystrophies focusing on both common and rare variants, including retinitis pigmentosa, progressive cone and cone-rod dystrophy, bradyopsia, Bietti crystalline dystrophy, late-onset retinal degeneration, and fundus albipunctatus. The different applications and limitations of electrophysiology techniques, including multifocal electroretinogram (mfERG), full-field ERG (ffERG), electrooculogram (EOG), pattern electroreti\n",
      "\n",
      "Processing batch 3 of 26\n"
     ]
    },
    {
     "name": "stderr",
     "output_type": "stream",
     "text": [
      "Batch 3:   0%|          | 0/2 [00:00<?, ?it/s]"
     ]
    },
    {
     "name": "stdout",
     "output_type": "stream",
     "text": [
      "\n",
      "Processing file: 41436_2020_Article_759.txt\n",
      "Detected encoding: utf-8 with confidence: 0.99\n",
      "Starting preprocessing... Initial word count: 6507\n",
      "Word count after clean_pdf_text: 6201\n",
      "Word count after remove_urls: 3807\n",
      "Word count after remove_emails: 3806\n",
      "Word count after remove_figures_tables: 3806\n",
      "Word count after remove_citations: 3797\n",
      "Word count after handle_special_characters: 3795\n",
      "Word count after remove_references: 3795\n"
     ]
    },
    {
     "name": "stderr",
     "output_type": "stream",
     "text": [
      "Batch 3:  50%|█████     | 1/2 [00:00<00:00,  1.21it/s]"
     ]
    },
    {
     "name": "stdout",
     "output_type": "stream",
     "text": [
      "Final word count after detect_sentence_boundaries: 3805\n",
      "Original Word Count: 6507\n",
      "Preprocessed Word Count: 3805\n",
      "Output text for 41436_2020_Article_759.txt: Abstract:\n",
      "Copy-number variation contributes 9% of pathogenicity Erin Zampaglione, PhD1, Benyam Kinde, MD, PhD1, Emily M. Place, MS1, Daniel Navarro-Gomez, BS1, Matthew Maher, MS1, Farzad Jamshidi, MD, PhD1, Sherwin Nassiri, MS2, J. Alex Mazzone, BS1, Caitlin Finn, MA1, Dana Schlegel, MS, MPH3, Jason Comander, MD, PhD1, Eric A. Pierce, MD, PhD1and Kinga M. Bujakowska, PhD1 Purpose: Current sequencing strategies can genetically solve 5560% of inherited retinal degeneration (IRD) cases, despite recent progress in sequencing. This can partially be attributed toelusive pathogenic variants (PVs) in known IRD genes, including copy-number variations (CNVs), which have been shown as major contributors to unsolved IRD cases. Methods: Five hundred IRD patients were analyzed with targeted next-generation sequencing (NGS). The NGS data were used todetect CNVs with ExomeDepth and gCNV and the results were compared with CNV detection with a single-nucleotide polymorphism (SNP) array. Likely causal CN\n",
      "\n",
      "Processing file: ijms-22-07207.txt\n",
      "Detected encoding: utf-8 with confidence: 0.99\n",
      "Starting preprocessing... Initial word count: 9333\n",
      "Word count after clean_pdf_text: 9238\n",
      "Word count after remove_urls: 7102\n",
      "Word count after remove_emails: 7095\n",
      "Word count after remove_figures_tables: 7095\n",
      "Word count after remove_citations: 6951\n",
      "Word count after handle_special_characters: 6949\n",
      "Word count after remove_references: 6949\n"
     ]
    },
    {
     "name": "stderr",
     "output_type": "stream",
     "text": [
      "Batch 3: 100%|██████████| 2/2 [00:02<00:00,  1.12s/it]\n"
     ]
    },
    {
     "name": "stdout",
     "output_type": "stream",
     "text": [
      "Final word count after detect_sentence_boundaries: 6951\n",
      "Original Word Count: 9333\n",
      "Preprocessed Word Count: 6951\n",
      "Output text for ijms-22-07207.txt: Abstract:\n",
      "Abstract: Inherited retinal diseases (IRDs) are a heterogeneous group of conditions that include retinitis pigmentosa (RP) and Leber congenital amaurosis (LCA) and early-onset severe retinal dystrophy (EO[S]RD), which differ in severity and age of onset. IRDs are caused by mutations in >250 genes. Variants in the RPE65 gene account for 0.66% of RP and 316% of LCA/EORD cases. Voretigene neparvovec is a gene therapy approved for the treatment of patients with an autosomal recessive retinal dystrophy due to confirmed biallelic RPE65 variants ( RPE65 -IRDs). Therefore, the accurate molecular diagnosis of RPE65 -IRDs is crucial to identify actionable genotypesi.e., genotypes that may benefit from the treatmentand is an integral part of patient management. To date, hundreds of RPE65 variants have been identified, some of which are classified as pathogenic or likely pathogenic, while the significance of others is yet to be established. In this review, we provide an overview of the g\n",
      "\n",
      "Processing batch 4 of 26\n"
     ]
    },
    {
     "name": "stderr",
     "output_type": "stream",
     "text": [
      "Batch 4:   0%|          | 0/2 [00:00<?, ?it/s]"
     ]
    },
    {
     "name": "stdout",
     "output_type": "stream",
     "text": [
      "\n",
      "Processing file: IJO-70-2316.txt\n",
      "Detected encoding: utf-8 with confidence: 0.99\n",
      "Starting preprocessing... Initial word count: 7839\n",
      "Word count after clean_pdf_text: 7741\n",
      "Word count after remove_urls: 7739\n",
      "Word count after remove_emails: 7737\n",
      "Word count after remove_figures_tables: 7737\n",
      "Word count after remove_citations: 7703\n",
      "Word count after handle_special_characters: 7700\n",
      "Word count after remove_references: 7700\n"
     ]
    },
    {
     "name": "stderr",
     "output_type": "stream",
     "text": [
      "Batch 4:  50%|█████     | 1/2 [00:01<00:01,  1.84s/it]"
     ]
    },
    {
     "name": "stdout",
     "output_type": "stream",
     "text": [
      "Final word count after detect_sentence_boundaries: 7702\n",
      "Original Word Count: 7839\n",
      "Preprocessed Word Count: 7702\n",
      "Output text for IJO-70-2316.txt: Abstract:\n",
      "overview of\tthe\tbasics\tof\tthese\ttherapies and\ttheir\tcurrent\tstatus.\n",
      "\n",
      "Main Text:\n",
      "Key words: Cell\ttherapy, gene\ttherapy, inherited retinal\tdiseases, vectors,\tvoretigene neparvovec 1Aster\tCMI Hospital, Bengaluru, Karnataka, India,\t2Centre\tfor\tEye Genetics and\tResearch, Bengaluru, Karnataka, India,\t3Department of\tVitreoretinal Diseases, Sankara Nethralaya, Chennai, Tamil\tNadu, India,\t4Department of\tOphthalmology, Yong\tLoo\tLin\tSchool\tof Medicine, National University of\tSingapore, Singapore Eye\tResearch Institute,\tSingapore Correspondence to:\tDr.\tRajani\tBattu,\tCentre\tfor\tEye\tGenetics and Research, The\tBattu\tEye\tCentre,\tMicon\tFencing, 25/25,\t1st\tFloor,\tJakkur Plantation, Yashoda Nagar,\tBengaluru \t560\t064,\tKarnataka, India. Email:\t Received: 09Jan Revision: 22Feb Accepted: 20Mar Published: 30Jun2022Retinal dystrophies or inherited retinal diseases (IRD) are a\tgroup\tof\theterogeneous diseases that\tare\tcharacterized by\tprogressive photoreceptor (PR)\tand/retinal pigment epithelium (RPE)\t\n",
      "\n",
      "Processing file: nihms-1685213.txt\n",
      "Detected encoding: utf-8 with confidence: 0.99\n",
      "Starting preprocessing... Initial word count: 11162\n",
      "Word count after clean_pdf_text: 11104\n",
      "Word count after remove_urls: 11102\n",
      "Word count after remove_emails: 11102\n",
      "Word count after remove_figures_tables: 11102\n",
      "Word count after remove_citations: 10979\n",
      "Word count after handle_special_characters: 10978\n",
      "Word count after remove_references: 10978\n"
     ]
    },
    {
     "name": "stderr",
     "output_type": "stream",
     "text": [
      "Batch 4: 100%|██████████| 2/2 [00:03<00:00,  1.97s/it]\n"
     ]
    },
    {
     "name": "stdout",
     "output_type": "stream",
     "text": [
      "Final word count after detect_sentence_boundaries: 10978\n",
      "Original Word Count: 11162\n",
      "Preprocessed Word Count: 10978\n",
      "Output text for nihms-1685213.txt: Abstract:\n",
      "overview of retinal imaging will be presented for RP and not each specific genotype. Areas of atrophied RPE/photoreceptor cell loss have decreased AF because of the lack of lipofuscin, and are observed to a greater extent in the mid-periphery (Figure 5A). Wide-field FAF can better evaluate the full extent of peripheral atrophy in RP. Increased AF is often observed in the form of a concentric ring around the macula ( 65), and represents areas of dysfunction/degenerating photoreceptors ( 129). The hyperautofluorescent ring demarcates the area of central viable retina from the surrounding atrophic retina, and thereby is observed to constrict over time (in contrast to CORD, where it is seen to expand) ( 65). The ring size and width follows an exponential decline, with faster loss of area earlier in the disease (65,130). X-linked forms of the disease are usually more severe, with early involvement of the fovea and more rapid decline of vision (Figure 5B) ( 131). On OCT imaging the\n",
      "\n",
      "Processing batch 5 of 26\n"
     ]
    },
    {
     "name": "stderr",
     "output_type": "stream",
     "text": [
      "Batch 5:   0%|          | 0/2 [00:00<?, ?it/s]"
     ]
    },
    {
     "name": "stdout",
     "output_type": "stream",
     "text": [
      "\n",
      "Processing file: nihms-1914935.txt\n",
      "Detected encoding: utf-8 with confidence: 0.99\n",
      "Starting preprocessing... Initial word count: 12827\n",
      "Word count after clean_pdf_text: 12707\n",
      "Word count after remove_urls: 12705\n",
      "Word count after remove_emails: 12705\n",
      "Word count after remove_figures_tables: 12704\n",
      "Word count after remove_citations: 12517\n",
      "Word count after handle_special_characters: 12481\n",
      "Word count after remove_references: 12481\n"
     ]
    },
    {
     "name": "stderr",
     "output_type": "stream",
     "text": [
      "Batch 5:  50%|█████     | 1/2 [00:02<00:02,  2.40s/it]"
     ]
    },
    {
     "name": "stdout",
     "output_type": "stream",
     "text": [
      "Final word count after detect_sentence_boundaries: 12482\n",
      "Original Word Count: 12827\n",
      "Preprocessed Word Count: 12482\n",
      "Output text for nihms-1914935.txt: Abstract:\n",
      "Summary linked to this article. Extended Data Fig. 1 |. Expression of Ins2 mRNA and Protein Within the RPE Cells of the Eye. a. RTPCR of Ins2 from mRNA isolated from different mouse tissues. n = 3 mice used for each tissue. **p < .01, one-way ANOV A on ranks. b. Flow cytometry panels showing YFP+ gating strategy for isolated RPE from Best1 -Cre/YFPflox-STOP-flox mice. c. Representative image of two independent experiments showing immunofluorescence analysis at 40x magnification on mouse retina from Rhodopsin -Cre Ins2f/f mice using antibodies against Cre (green) (left). RTPCR of Ins2 mRNA in RPE of Rhodopsin -Cre Ins2f/f shows no change in the expression of the Ins2 transcript compared to control (right). n = 2 mice used for each genotype. d. Representative image of immunofluorescence analysis at 60x magnification on human retina using antibodies against C-peptide (magenta) with brightfield microscopy. Merge shows that C-peptide, a byproduct of insulin secretion and a metric \n",
      "\n",
      "Processing file: JCO-34-80.txt\n",
      "Detected encoding: utf-8 with confidence: 0.99\n",
      "Starting preprocessing... Initial word count: 5239\n",
      "Word count after clean_pdf_text: 5175\n",
      "Word count after remove_urls: 5175\n",
      "Word count after remove_emails: 5174\n",
      "Word count after remove_figures_tables: 5173\n",
      "Word count after remove_citations: 5153\n",
      "Word count after handle_special_characters: 5138\n",
      "Word count after remove_references: 5138\n"
     ]
    },
    {
     "name": "stderr",
     "output_type": "stream",
     "text": [
      "Batch 5: 100%|██████████| 2/2 [00:03<00:00,  1.70s/it]\n"
     ]
    },
    {
     "name": "stdout",
     "output_type": "stream",
     "text": [
      "Final word count after detect_sentence_boundaries: 5139\n",
      "Original Word Count: 5239\n",
      "Preprocessed Word Count: 5139\n",
      "Output text for JCO-34-80.txt: Abstract:\n",
      "Abstract Purpose: To evaluate the effect of inherited retinal dystrophies (IRDs) on visionrelated quality of life (VRQoL) among IRDs patients in Iran. Methods: This crosssectional study was conducted on 192 patients with different types of IRDs who were randomly selected from registered patients in the Iranian National Registry for Inherited Retinal Dystrophy (IRDReg). All ophthalmic findings were collected based on the recorded data in IRDReg. Moreover, the eligible participants were interviewed to fill out the National Eye Institute Visual Functioning Questionnaire25 (NEI VFQ25) to assess their VRQoL. Ordinal logistic regression was used to evaluate the possible association of the different clinical and nonclinical factors such as demographic information, socioeconomic status, and visual function with VRQoL. Results: The overall mean of a composite score of VRQoL was 45. All subscales obtained from the NEI VFQ25 questionnaire except general health, mental health, and ocular\n",
      "\n",
      "Processing batch 6 of 26\n"
     ]
    },
    {
     "name": "stderr",
     "output_type": "stream",
     "text": [
      "Batch 6:   0%|          | 0/2 [00:00<?, ?it/s]"
     ]
    },
    {
     "name": "stdout",
     "output_type": "stream",
     "text": [
      "\n",
      "Processing file: TJO-53-44.txt\n",
      "Detected encoding: utf-8 with confidence: 0.99\n",
      "Starting preprocessing... Initial word count: 9499\n",
      "Word count after clean_pdf_text: 9446\n",
      "Word count after remove_urls: 9446\n",
      "Word count after remove_emails: 9445\n",
      "Word count after remove_figures_tables: 9445\n",
      "Word count after remove_citations: 9421\n",
      "Word count after handle_special_characters: 9378\n",
      "Word count after remove_references: 9378\n",
      "Final word count after detect_sentence_boundaries: 9378\n"
     ]
    },
    {
     "name": "stderr",
     "output_type": "stream",
     "text": [
      "Batch 6:  50%|█████     | 1/2 [00:03<00:03,  3.35s/it]"
     ]
    },
    {
     "name": "stdout",
     "output_type": "stream",
     "text": [
      "Original Word Count: 9499\n",
      "Preprocessed Word Count: 9378\n",
      "Output text for TJO-53-44.txt: Abstract:\n",
      "Copyright 2023by Turkish Ophthalmological Association Turkish Journal of Ophthalmology, published by Galenos Publishing House.Invited Review DOI: 10.4274/tjo.galenos..76436 Turk J Ophthalmol ;53:44-57 Sengul Ozdek*, Ece Ozdemir Zeydanl**, Caroline Baumal***, Sandra Hoyek****, Nimesh Patel****, Audina Berrocal*****, Ashley Lopez-Canizares*****, Hasenin Al-Khersan*****, Shunji Kusaka******, Fukutaro Mano******, Subhadra Jalali*******, Domenico Lepore********, Solmaz Akar********* *Gazi University Faculty of Medicine, Department of Ophthalmology, Ankara, Turkiye **Ankara Retina Clinic, Ankara, Turkiye ***Tufts University Faculty of Medicine, Department of Ophthalmology, Tufts Medical Center, Boston, United States of America ****Harvard Medical School, Massachusetts Eye and Ear, Department of Ophthalmology, Boston, United States of America *****University of Miami Miller Faculty of Medicine, Bascom Palmer Eye Institute, Department of Ophthalmology, Miami, United States of America\n",
      "\n",
      "Processing file: MGG3-9-e1663.txt\n",
      "Detected encoding: utf-8 with confidence: 0.99\n",
      "Starting preprocessing... Initial word count: 5983\n",
      "Word count after clean_pdf_text: 5796\n",
      "Word count after remove_urls: 5776\n",
      "Word count after remove_emails: 5775\n",
      "Word count after remove_figures_tables: 5775\n",
      "Word count after remove_citations: 5695\n",
      "Word count after handle_special_characters: 5677\n",
      "Word count after remove_references: 5677\n"
     ]
    },
    {
     "name": "stderr",
     "output_type": "stream",
     "text": [
      "Batch 6: 100%|██████████| 2/2 [00:04<00:00,  2.22s/it]\n"
     ]
    },
    {
     "name": "stdout",
     "output_type": "stream",
     "text": [
      "Final word count after detect_sentence_boundaries: 5679\n",
      "Original Word Count: 5983\n",
      "Preprocessed Word Count: 5679\n",
      "Output text for MGG3-9-e1663.txt: Abstract:\n",
      "Mol Genet Genomic Med. ;9:e1663. | 1 of 9 (, ; Rahi & Cable, ). Managing patients with rare diseases requires specific exper - tise, which often includes access to diagnostic genetic testing, a field that has rapidly evolved over the past decade. While a range Received: 13 April  | Revised: 19 January  | Accepted: 10 February  DOI: 10.1002/mgg3.1663 Panel- based genetic testing for inherited retinal disease screening Leo H. N. Sheck1,2 | Simona D. Esposti1,3 | Omar A. Mahroo1,3 | Gavin Arno1,3 | Nikolas Pontikos1,3 | Genevieve Wright1,3 | Andrew R. Webster1,3 | Kamron N. Khan4 | Michel Michaelides1,3 This is an open access article under the terms of the Creative Commons Attribution License, which permits use, distribution and reproduction in any medium, provided the original work is properly cited.    The Authors. Molecular Genetics & Genomic Medicine published by Wiley Periodicals LLC.Kamron N. Khan and Michel Michaelides contributed equally to this work. Precis: Our study r\n",
      "\n",
      "Processing batch 7 of 26\n"
     ]
    },
    {
     "name": "stderr",
     "output_type": "stream",
     "text": [
      "Batch 7:   0%|          | 0/2 [00:00<?, ?it/s]"
     ]
    },
    {
     "name": "stdout",
     "output_type": "stream",
     "text": [
      "\n",
      "Processing file: Acta Ophthalmologica - 2019 - Holtan - Inherited retinal disease in Norway   a characterization of current clinical and.txt\n",
      "Detected encoding: utf-8 with confidence: 0.99\n",
      "Starting preprocessing... Initial word count: 7549\n",
      "Word count after clean_pdf_text: 6800\n",
      "Word count after remove_urls: 6798\n",
      "Word count after remove_emails: 6797\n",
      "Word count after remove_figures_tables: 6796\n",
      "Word count after remove_citations: 6642\n",
      "Word count after handle_special_characters: 6634\n",
      "Word count after remove_references: 6634\n"
     ]
    },
    {
     "name": "stderr",
     "output_type": "stream",
     "text": [
      "Batch 7:  50%|█████     | 1/2 [00:01<00:01,  1.29s/it]"
     ]
    },
    {
     "name": "stdout",
     "output_type": "stream",
     "text": [
      "Final word count after detect_sentence_boundaries: 6648\n",
      "Original Word Count: 7549\n",
      "Preprocessed Word Count: 6648\n",
      "Output text for Acta Ophthalmologica - 2019 - Holtan - Inherited retinal disease in Norway   a characterization of current clinical and.txt: Abstract:\n",
      "ABSTRACT. Purpose: The purpose of this study was to characterize current clinical and genetic knowledge of patients with inherited retinal disease in Norway and give an estimate of the prevalence. These data are necessary to identify patients eligible for new personalized medicines, to facilitate genetic counselling for their families and to plan clinical follow-up. Methods: A patient registry including clinical and genetic data was established. Clinical data were retrieved during  . Genetic testing was performed in the period  . Results: The material included 866 patients with 41 clinical diagnoses at the cut-off date. The most prevalent diseases were as follows: retinitis pigmentosa (54%), Stargardt macular dystrophy (6.5%) and Leber congenital amaurosis (5.2%). A genetic diagnosis was identified in 32% of patients. In total, 207 disease-causing variantsin56geneswerereported. Themostcommonlyreporteddisease-causinggenes were ABCA4, USH2A andBEST1 . The estimated adjusted min\n",
      "\n",
      "Processing file: 10.1177_2515841420954592.txt\n",
      "Detected encoding: utf-8 with confidence: 0.99\n",
      "Starting preprocessing... Initial word count: 15337\n",
      "Word count after clean_pdf_text: 14824\n",
      "Word count after remove_urls: 14824\n",
      "Word count after remove_emails: 14823\n",
      "Word count after remove_figures_tables: 14822\n",
      "Word count after remove_citations: 14777\n",
      "Word count after handle_special_characters: 14750\n",
      "Word count after remove_references: 14750\n"
     ]
    },
    {
     "name": "stderr",
     "output_type": "stream",
     "text": [
      "Batch 7: 100%|██████████| 2/2 [00:03<00:00,  1.99s/it]\n"
     ]
    },
    {
     "name": "stdout",
     "output_type": "stream",
     "text": [
      "Final word count after detect_sentence_boundaries: 14765\n",
      "Original Word Count: 15337\n",
      "Preprocessed Word Count: 14765\n",
      "Output text for 10.1177_2515841420954592.txt: Abstract:\n",
      "Abstract: Genetic eye diseases affect around one in 1000 people worldwide for which the molecular aetiology remains unknown in the majority. The identification of disease-causing gene variant(s) allows a better understanding of the disorder and its inheritance. There is now an approved retinal gene therapy for autosomal recessive RPE65-retinopathy, and numerous ocular gene/mutation-targeted clinical trials underway, highlighting the importance of establishing a genetic diagnosis so patients can fully access the latest research developments and treatment options. In this review, we will provide a practical guide to managing patients with these conditions including an overview of inheritance patterns, required pre- and posttest genetic counselling, different types of cytogenetic and genetic testing available, with a focus on next generation sequencing using targeted gene panels, whole exome and genome sequencing. We will expand on the pros and cons of each modality, variant int\n",
      "\n",
      "Processing batch 8 of 26\n"
     ]
    },
    {
     "name": "stderr",
     "output_type": "stream",
     "text": [
      "Batch 8:   0%|          | 0/2 [00:00<?, ?it/s]"
     ]
    },
    {
     "name": "stdout",
     "output_type": "stream",
     "text": [
      "\n",
      "Processing file: 41525_2021_Article_180.txt\n",
      "Detected encoding: utf-8 with confidence: 0.99\n",
      "Starting preprocessing... Initial word count: 6685\n",
      "Word count after clean_pdf_text: 6581\n",
      "Word count after remove_urls: 5539\n",
      "Word count after remove_emails: 5539\n",
      "Word count after remove_figures_tables: 5539\n",
      "Word count after remove_citations: 5512\n",
      "Word count after handle_special_characters: 5481\n",
      "Word count after remove_references: 5481\n"
     ]
    },
    {
     "name": "stderr",
     "output_type": "stream",
     "text": [
      "Batch 8:  50%|█████     | 1/2 [00:01<00:01,  1.09s/it]"
     ]
    },
    {
     "name": "stdout",
     "output_type": "stream",
     "text": [
      "Final word count after detect_sentence_boundaries: 5492\n",
      "Original Word Count: 6685\n",
      "Preprocessed Word Count: 5492\n",
      "Output text for 41525_2021_Article_180.txt: Abstract:\n",
      "summary, this report of the Taiwan Inherited retinal Degeneration Project presents the phenotype classi fication, genetic characteristics, and related statistical analysis of 312 families with IRD. With these data, we hope to achieve better understanding and care for patients with IRD, as well as provide comparative data for IRD specialists worldwide. To the best of our knowledge, this is the first large-scale, comprehensive study investigating the genetic characteristics and epidemiology of IRD in Taiwan. The present study was conducted at the Department of Ophthalmology, National Taiwan University Hospital (NTUH), and was approved by theResearch Ethics Committee of the National Taiwan University Hospital (IRBNO.: 201408082RINC). Patients with IRD were recruited either from our out-patient clinic or from patients referred by other medical centers in Taiwanto our hospital (please see Acknowledgements for the list of medicalcenters). From July  to June , 312 families with IRDs\n",
      "\n",
      "Processing file: jmedgenet-2016-103837.txt\n",
      "Detected encoding: utf-8 with confidence: 0.99\n",
      "Starting preprocessing... Initial word count: 6324\n",
      "Word count after clean_pdf_text: 6124\n",
      "Word count after remove_urls: 5518\n",
      "Word count after remove_emails: 5517\n",
      "Word count after remove_figures_tables: 5504\n",
      "Word count after remove_citations: 5501\n",
      "Word count after handle_special_characters: 5501\n",
      "Word count after remove_references: 5501\n"
     ]
    },
    {
     "name": "stderr",
     "output_type": "stream",
     "text": [
      "Batch 8: 100%|██████████| 2/2 [00:02<00:00,  1.12s/it]\n"
     ]
    },
    {
     "name": "stdout",
     "output_type": "stream",
     "text": [
      "Final word count after detect_sentence_boundaries: 5506\n",
      "Original Word Count: 6324\n",
      "Preprocessed Word Count: 5506\n",
      "Output text for jmedgenet-2016-103837.txt: Abstract:\n",
      "summary of our strategy to clinically interpret genetic variantsis provided in online supplementary  S2. Clinical interpret-ation was restricted to variants within coding regions 5 bp ofthe 105 genes included in online supplementary  S1 and anintronic variant, c.2991+1655A>G, in the CEP290 gene. W e considered variants with a frequency >1% in control popula-tion databases (Exome Variant Server, ESP-6500; dbSNP V .135)as benign polymorphisms, providing the cohort size was suf ficiently large and diverse, and the sequencing read depthexceeded an average of 18 in the Exome Variant Server (EVS).Variants with a frequency below 1% in SNP databases but witha high recurrence rate in-house were classi fied as neutral or proven to be NGS run artefacts by Sanger sequencing. Thepathogenicity of the remaining genetic variants was determinedthrough extensive appraisal of the variant s predicted consequence (annotations performed against the Ensembl V .68 database), the scienti fic literatu\n",
      "\n",
      "Processing batch 9 of 26\n"
     ]
    },
    {
     "name": "stderr",
     "output_type": "stream",
     "text": [
      "Batch 9:   0%|          | 0/2 [00:00<?, ?it/s]"
     ]
    },
    {
     "name": "stdout",
     "output_type": "stream",
     "text": [
      "\n",
      "Processing file: nihms-1567493.txt\n",
      "Detected encoding: utf-8 with confidence: 0.99\n",
      "Starting preprocessing... Initial word count: 5426\n",
      "Word count after clean_pdf_text: 5392\n",
      "Word count after remove_urls: 5392\n",
      "Word count after remove_emails: 5392\n",
      "Word count after remove_figures_tables: 5392\n",
      "Word count after remove_citations: 5343\n",
      "Word count after handle_special_characters: 5343\n",
      "Word count after remove_references: 5343\n"
     ]
    },
    {
     "name": "stderr",
     "output_type": "stream",
     "text": [
      "Batch 9:  50%|█████     | 1/2 [00:01<00:01,  1.08s/it]"
     ]
    },
    {
     "name": "stdout",
     "output_type": "stream",
     "text": [
      "Final word count after detect_sentence_boundaries: 5344\n",
      "Original Word Count: 5426\n",
      "Preprocessed Word Count: 5344\n",
      "Output text for nihms-1567493.txt: Abstract:\n",
      "Patient-reported outcome measures in inherited retinal Gabrielle D. Lacy1, Maria Fernanda Abalem1,2, David C. Musch1,3, Kanishka T. 1Department of Ophthalmology and Visual Sciences, University of Michigan Medical School, Ann Arbor, Michigan, United States. 2Department of Ophthalmology and Otolaryngology, University of Sao Paulo Medical School, Sao Paulo, Sao Paulo, Brazil. 3Department of Epidemiology, School of Public Health, University of Michigan, Ann Arbor, Michigan, United States. Patient-reported outcome (PRO) measures have the potential to uniquely capture patient experience and serve as an outcome measure in inherited retinal degeneration (IRD) gene therapy trials. An IRD-specific patient-reported outcome measure may yield valuable information that has not been obtained from inherited retinal dystrophy gene therapy trials published to-date. Existing PRO measures have inherent limitations for use in IRD gene therapy trials. Developing an applicable patient-reported outc\n",
      "\n",
      "Processing file: diagnostics-13-02413-compressed.txt\n"
     ]
    },
    {
     "name": "stderr",
     "output_type": "stream",
     "text": [
      "ERROR:root:Error processing file diagnostics-13-02413-compressed.txt: 'charmap' codec can't decode byte 0x81 in position 2388: character maps to <undefined>\n",
      "Batch 9: 100%|██████████| 2/2 [00:01<00:00,  1.61it/s]\n"
     ]
    },
    {
     "name": "stdout",
     "output_type": "stream",
     "text": [
      "Detected encoding: Windows-1254 with confidence: 0.5250219435198243\n",
      "\n",
      "Processing batch 10 of 26\n"
     ]
    },
    {
     "name": "stderr",
     "output_type": "stream",
     "text": [
      "Batch 10:   0%|          | 0/2 [00:00<?, ?it/s]"
     ]
    },
    {
     "name": "stdout",
     "output_type": "stream",
     "text": [
      "\n",
      "Processing file: NRR-18-701.txt\n",
      "Detected encoding: utf-8 with confidence: 0.99\n",
      "Starting preprocessing... Initial word count: 9943\n",
      "Word count after clean_pdf_text: 9831\n",
      "Word count after remove_urls: 9829\n",
      "Word count after remove_emails: 9829\n",
      "Word count after remove_figures_tables: 9829\n",
      "Word count after remove_citations: 9439\n",
      "Word count after handle_special_characters: 9440\n",
      "Word count after remove_references: 9440\n"
     ]
    },
    {
     "name": "stderr",
     "output_type": "stream",
     "text": [
      "Batch 10:  50%|█████     | 1/2 [00:01<00:01,  1.91s/it]"
     ]
    },
    {
     "name": "stdout",
     "output_type": "stream",
     "text": [
      "Final word count after detect_sentence_boundaries: 9440\n",
      "Original Word Count: 9943\n",
      "Preprocessed Word Count: 9440\n",
      "Output text for NRR-18-701.txt: Abstract:\n",
      "summary, RGC physiology inevitably changes during photoreceptor degenerative disease and functional consequences propagate into the visual areas of the brain. The adult human visual cortex may also be sufficiently plastic to adapt to altered visual inputs (, ; , ). Still, many aspects of visual function remain unexpectedly stable, with contrast sensitivity particularly remaining strikingly resistant to retinal degeneration in animal models. Does hyperexcitability in the inner retina counteract beneficial effects of rewiring? A major issue that could discount the functional benefits of the apparent retinal adaptation to photoreceptor loss is the simultaneously increasing spontaneous neural activity that can worsen neural signal-to-noise ratio and mask light-responses. Characteristic of the severely degenerated retina is spontaneous, rhythmic oscillatory waves which physiological meaning has not yet been fully characterized. Although these oscillatory waves are generally record\n",
      "\n",
      "Processing file: 1-s2.0-S1350946223000447-main.txt\n",
      "Detected encoding: utf-8 with confidence: 0.99\n",
      "Starting preprocessing... Initial word count: 34377\n",
      "Word count after clean_pdf_text: 33868\n",
      "Word count after remove_urls: 33866\n",
      "Word count after remove_emails: 33864\n",
      "Word count after remove_figures_tables: 33864\n",
      "Word count after remove_citations: 32367\n",
      "Word count after handle_special_characters: 32377\n",
      "Word count after remove_references: 32377\n"
     ]
    },
    {
     "name": "stderr",
     "output_type": "stream",
     "text": [
      "Batch 10: 100%|██████████| 2/2 [00:14<00:00,  7.11s/it]\n"
     ]
    },
    {
     "name": "stdout",
     "output_type": "stream",
     "text": [
      "Final word count after detect_sentence_boundaries: 32377\n",
      "Original Word Count: 34377\n",
      "Preprocessed Word Count: 32377\n",
      "Output text for 1-s2.0-S1350946223000447-main.txt: Abstract:\n",
      "ABSTRACT Mitochondrial function is key to support metabolism and homeostasis in the retina, an organ that has one of the highest metabolic rates body-wide and is constantly exposed to photooxidative damage and external stressors. Mitophagy is the selective autophagic degradation of mitochondria within lysosomes, and can be triggered by distinct stimuli such as mitochondrial damage or hypoxia. Here, we review the importance of mitophagy in retinal physiology and pathology. In the developing retina, mitophagy is essential for metabolic reprogramming and differentiation of retina ganglion cells (RGCs). In basal conditions, mitophagy acts as a quality control mechanism, maintaining a healthy mitochondrial pool to meet cellular demands. We summarize the different autophagy- and mitophagy-deficient mouse models described in the literature, and discuss the potential role of mitophagy dysregulation in retinal diseases such as glaucoma, diabetic retinopathy, retinitis pigmentosa, and \n",
      "\n",
      "Processing batch 11 of 26\n"
     ]
    },
    {
     "name": "stderr",
     "output_type": "stream",
     "text": [
      "Batch 11:   0%|          | 0/2 [00:00<?, ?it/s]"
     ]
    },
    {
     "name": "stdout",
     "output_type": "stream",
     "text": [
      "\n",
      "Processing file: main (1).txt\n",
      "Detected encoding: utf-8 with confidence: 0.99\n",
      "Starting preprocessing... Initial word count: 6330\n",
      "Word count after clean_pdf_text: 6147\n",
      "Word count after remove_urls: 5120\n",
      "Word count after remove_emails: 5119\n",
      "Word count after remove_figures_tables: 5119\n",
      "Word count after remove_citations: 5113\n",
      "Word count after handle_special_characters: 5100\n",
      "Word count after remove_references: 5100\n"
     ]
    },
    {
     "name": "stderr",
     "output_type": "stream",
     "text": [
      "Batch 11:  50%|█████     | 1/2 [00:01<00:01,  1.00s/it]"
     ]
    },
    {
     "name": "stdout",
     "output_type": "stream",
     "text": [
      "Final word count after detect_sentence_boundaries: 5100\n",
      "Original Word Count: 6330\n",
      "Preprocessed Word Count: 5100\n",
      "Output text for main (1).txt: Abstract:\n",
      "RBP3 -RetinopathyInherited High Myopia and Retinal Dystrophy: Genetic Characterization, Natural History, and Deep MICHALIS GEORGIOU, KAORU FUJINAMI, ANTHONY G. ROBSON, YU FUJINAMI-YOKOKAWA, AHMED F. SHAKARCHI, MARCO H. JI, SAMI H. UWAYDAT, ANGELA KIM, MASHA KOLESNIKOVA, GAVIN ARNO, NIKOLAS PONTIKOS, OMAR A. MAHROO, STEPHEN H. TSANG, ANDREW R. WEBSTER, AND P U R P O S E : To examine the genetic and clinical features and the natural history of RBP3 -associated retinopathy. D E S I G N : Multi-center international, retrospective, case series of adults and children, with moleculraly confirmed RBP3 -asociated retinopathy.  METHODS: The genetic, clinical, and retinal imaging findings, including optical coherence tomography (OCT) and fundus autofluorescence (FAF), were investigated both cross-sectionally and longitudinally. The results of international standard full-field electroretinography (ERG) and pattern electroretinography (PERG) were reviewed.  RESULTS: We ascertained 12 pati\n",
      "\n",
      "Processing file: genes-12-00147.txt\n",
      "Detected encoding: utf-8 with confidence: 0.99\n",
      "Starting preprocessing... Initial word count: 8974\n",
      "Word count after clean_pdf_text: 8725\n",
      "Word count after remove_urls: 8724\n",
      "Word count after remove_emails: 8720\n",
      "Word count after remove_figures_tables: 8720\n",
      "Word count after remove_citations: 8584\n",
      "Word count after handle_special_characters: 8579\n",
      "Word count after remove_references: 8579\n"
     ]
    },
    {
     "name": "stderr",
     "output_type": "stream",
     "text": [
      "Batch 11: 100%|██████████| 2/2 [00:02<00:00,  1.34s/it]\n"
     ]
    },
    {
     "name": "stdout",
     "output_type": "stream",
     "text": [
      "Final word count after detect_sentence_boundaries: 8582\n",
      "Original Word Count: 8974\n",
      "Preprocessed Word Count: 8582\n",
      "Output text for genes-12-00147.txt: Abstract:\n",
      "Abstract: Inherited optic neuropathies, including Leber Hereditary Optic Neuropathy (LHON) and Dominant Optic Atrophy (DOA), are monogenetic diseases with a final common pathway of mitochondrial dysfunction leading to retinal ganglion cell (RGC) death and ultimately loss of vision. They are, therefore, excellent models with which to investigate this ubiquitous disease process implicated in both common polygenetic ocular diseases (e.g., Glaucoma) and late-onset central nervous system neurodegenerative diseases (e.g., Parkinson disease). In recent years, cellular and animal models of LHON and DOA have matured in parallel with techniques (such as RNA-seq) to determine and analyze the transcriptomes of affected cells. This confluence leaves us at a particularly exciting time with the potential for the identification of novel pathogenic players and therapeutic targets. Here, we present a discussion of the importance of inherited optic neuropathies and how transcriptomic techniques\n",
      "\n",
      "Processing batch 12 of 26\n"
     ]
    },
    {
     "name": "stderr",
     "output_type": "stream",
     "text": [
      "Batch 12:   0%|          | 0/2 [00:00<?, ?it/s]"
     ]
    },
    {
     "name": "stdout",
     "output_type": "stream",
     "text": [
      "\n",
      "Processing file: bjophthalmol-2020-315878.txt\n",
      "Detected encoding: utf-8 with confidence: 0.99\n",
      "Starting preprocessing... Initial word count: 4980\n",
      "Word count after clean_pdf_text: 4808\n",
      "Word count after remove_urls: 4253\n",
      "Word count after remove_emails: 4253\n",
      "Word count after remove_figures_tables: 4252\n",
      "Word count after remove_citations: 4249\n",
      "Word count after handle_special_characters: 4248\n",
      "Word count after remove_references: 4248\n"
     ]
    },
    {
     "name": "stderr",
     "output_type": "stream",
     "text": [
      "Batch 12:  50%|█████     | 1/2 [00:00<00:00,  1.21it/s]"
     ]
    },
    {
     "name": "stdout",
     "output_type": "stream",
     "text": [
      "Final word count after detect_sentence_boundaries: 4254\n",
      "Original Word Count: 4980\n",
      "Preprocessed Word Count: 4254\n",
      "Output text for bjophthalmol-2020-315878.txt: Abstract:\n",
      "AbsTrACT Aims To investigate the frequency of USH2A mutation and the clinical and genetic differences between Usher syndrome type II (USH2) and retinitis pigmentosa (RP) in a large cohort of Chinese patients. retinal disease (IRD) were recruited. The phenotypic and genotypic information of patients with USH2A mutations was evaluated. mutations was 15.75%, which was the most frequently detected gene in this cohort of patients. Hotspot of USH2A mutations was c.8559- 2A >G and c.2802T >G. Patients with USH2 had an earlier and more serious decline of visual function and damage to retina structure than did patients with RP in the first 10 years (p0.05). Missense variants had less severe consequences and were found more commonly in RP , whereas more deleterious genotypes were associated with an earlier onset of disease and were found more commonly in USH2. Conclusions This study provides detailed clinical genetic assessment of patients with USH2A mutations of Chinese origin, enabli\n",
      "\n",
      "Processing file: nihms-1933615.txt\n",
      "Detected encoding: utf-8 with confidence: 0.99\n",
      "Starting preprocessing... Initial word count: 4153\n",
      "Word count after clean_pdf_text: 4131\n",
      "Word count after remove_urls: 4129\n",
      "Word count after remove_emails: 4129\n",
      "Word count after remove_figures_tables: 4129\n",
      "Word count after remove_citations: 4086\n",
      "Word count after handle_special_characters: 4086\n",
      "Word count after remove_references: 4086\n"
     ]
    },
    {
     "name": "stderr",
     "output_type": "stream",
     "text": [
      "Batch 12: 100%|██████████| 2/2 [00:01<00:00,  1.23it/s]\n"
     ]
    },
    {
     "name": "stdout",
     "output_type": "stream",
     "text": [
      "Final word count after detect_sentence_boundaries: 4086\n",
      "Original Word Count: 4153\n",
      "Preprocessed Word Count: 4086\n",
      "Output text for nihms-1933615.txt: Abstract:\n",
      "overview of the most relevant ocular diseases. Front Genet ;8:144. [PubMed: 29075285] 7. Duncan JL, Pierce EA, Laster AM, et al. Inherited retinal degenerations: current landscape and knowledge gaps. Translational Vis Sci Technol ;7:6. 8. Hanany M, Rivolta C, Sharon D. Worldwide carrier frequency and genetic prevalence of autosomal recessive inherited retinal diseases. Proc Natl Acad Sci U S A ;117:27102716. [PubMed: 31964843] 9. Maguire AM, Russell S, Wellman JA, et al. Efficacy, safety, and durability of voretigene neparvovec-rzyl in RPE65 mutation-associated inherited retinal dystrophy: results of phase 1 and 3 trials. Ophthalmology ;126:12731285. [PubMed: 31443789] 10. Yannuzzi NA, Smiddy WE. Cost-effectiveness of voretigene neparvovec-rzyl therapy. JAMA Ophthalmol ;137:11231124. [PubMed: 31318388] 11. Ho AC, Humayun MS, Dorn JD, et al. Long-term results from an epiretinal prosthesis to restore sight to the blind. Ophthalmology ;122:15471554. [PubMed: 26162233] 12. Wood E\n",
      "\n",
      "Processing batch 13 of 26\n"
     ]
    },
    {
     "name": "stderr",
     "output_type": "stream",
     "text": [
      "Batch 13:   0%|          | 0/2 [00:00<?, ?it/s]"
     ]
    },
    {
     "name": "stdout",
     "output_type": "stream",
     "text": [
      "\n",
      "Processing file: emss-80329.txt\n",
      "Detected encoding: utf-8 with confidence: 0.99\n",
      "Starting preprocessing... Initial word count: 14918\n",
      "Word count after clean_pdf_text: 14554\n",
      "Word count after remove_urls: 14554\n",
      "Word count after remove_emails: 14554\n",
      "Word count after remove_figures_tables: 14554\n",
      "Word count after remove_citations: 13792\n",
      "Word count after handle_special_characters: 13758\n",
      "Word count after remove_references: 13758\n",
      "Final word count after detect_sentence_boundaries: 13764\n"
     ]
    },
    {
     "name": "stderr",
     "output_type": "stream",
     "text": [
      "Batch 13:  50%|█████     | 1/2 [00:05<00:05,  5.04s/it]"
     ]
    },
    {
     "name": "stdout",
     "output_type": "stream",
     "text": [
      "Original Word Count: 14918\n",
      "Preprocessed Word Count: 13764\n",
      "Output text for emss-80329.txt: Abstract:\n",
      "Mei Chen1, Chang Luo1,2, Jiawu Zhao1, Gayathri Devarajan3, and Heping Xu1,2,* 1Centre for Experimental Medicine, School of Medicine, Dentistry & Biomedical Sciences, Queens University Belfast, UK 2Aier Eye Institute, Aier School of Ophthalmology, Central South University of China 3Infection and Immunity, School of Medicine, University of Aberdeen, UK The retina is an immune privileged tissue, which is protected from external and internal insults by its blood-retinal barriers and immune suppressive microenvironment. Apart from the avoidance and tolerance strategies, the retina is also protected by its own defense system, i.e., microglia and the complement system. The immune privilege and defense mechanisms work together to maintain retinal homeostasis. During aging, the retina is at an increased risk of developing various degenerative diseases such as age-related macular degeneration, diabetic retinopathy, and glaucomatous retinopathy. Previously, we have shown that aging indu\n",
      "\n",
      "Processing file: ijms-22-05684.txt\n",
      "Detected encoding: utf-8 with confidence: 0.99\n",
      "Starting preprocessing... Initial word count: 15160\n",
      "Word count after clean_pdf_text: 15080\n",
      "Word count after remove_urls: 15079\n",
      "Word count after remove_emails: 15075\n",
      "Word count after remove_figures_tables: 15075\n",
      "Word count after remove_citations: 14766\n",
      "Word count after handle_special_characters: 14765\n",
      "Word count after remove_references: 14765\n"
     ]
    },
    {
     "name": "stderr",
     "output_type": "stream",
     "text": [
      "Batch 13: 100%|██████████| 2/2 [00:08<00:00,  4.01s/it]\n"
     ]
    },
    {
     "name": "stdout",
     "output_type": "stream",
     "text": [
      "Final word count after detect_sentence_boundaries: 14766\n",
      "Original Word Count: 15160\n",
      "Preprocessed Word Count: 14766\n",
      "Output text for ijms-22-05684.txt: Abstract:\n",
      "Abstract: Inherited retinal diseases (IRDs) represent a collection of phenotypically and genetically diverse conditions. IRDs phenotype(s) can be isolated to the eye or can involve multiple tissues. These conditions are associated with diverse forms of inheritance, and variants within the same gene often can be associated with multiple distinct phenotypes. Such aspects of the IRDs highlight the difficulty met when establishing a genetic diagnosis in patients. Here we provide an overview of cutting-edge next-generation sequencing techniques and strategies currently in use to maximise the effectivity of IRD gene screening. These techniques have helped researchers globally to find elusive causes of IRDs, including copy number variants, structural variants, new IRD genes and deep intronic variants, among others. Resolving a genetic diagnosis with thorough testing enables a more accurate diagnosis and more informed prognosis and should also provide information on inheritance patte\n",
      "\n",
      "Processing batch 14 of 26\n"
     ]
    },
    {
     "name": "stderr",
     "output_type": "stream",
     "text": [
      "Batch 14:   0%|          | 0/2 [00:00<?, ?it/s]"
     ]
    },
    {
     "name": "stdout",
     "output_type": "stream",
     "text": [
      "\n",
      "Processing file: EMMM-14-e15941-compressed.txt\n",
      "Detected encoding: utf-8 with confidence: 0.99\n",
      "Starting preprocessing... Initial word count: 13516\n",
      "Word count after clean_pdf_text: 13352\n",
      "Word count after remove_urls: 13352\n",
      "Word count after remove_emails: 13350\n",
      "Word count after remove_figures_tables: 13349\n",
      "Word count after remove_citations: 13281\n",
      "Word count after handle_special_characters: 13278\n",
      "Word count after remove_references: 13278\n",
      "Final word count after detect_sentence_boundaries: 13290\n"
     ]
    },
    {
     "name": "stderr",
     "output_type": "stream",
     "text": [
      "Batch 14:  50%|█████     | 1/2 [00:04<00:04,  4.70s/it]"
     ]
    },
    {
     "name": "stdout",
     "output_type": "stream",
     "text": [
      "Original Word Count: 13516\n",
      "Preprocessed Word Count: 13290\n",
      "Output text for EMMM-14-e15941-compressed.txt: Abstract:\n",
      "miR- 181a/b downregulation: a mutation-independent therapeutic approach for Sabrina Carrella1,2,*, Martina Di Guida1,3, Simona Brillante1, Davide Piccolo1, Ludovica Ciampi1, Irene Guadagnino1,3, Jorge Garcia Piqueras1,3, Mariateresa Pizzo1, Elena Marrocco1, Marta Molinari1, Georgios Petrogiannakis1,4, Sara Barbato1, Yulia Ezhova1,4, Alberto Auricchio1,5, Brunella Franco1,6,7, Elvira De Leonibus1,8, Enrico Maria Surace6, Alessia Indrieri1,9& Sandro Banfi1,3,** Inherited retinal diseases (IRDs) are a group of diseases whose common landmark is progressive photoreceptor loss. The develop-ment of gene-specific therapies for IRDs is hampered by their widegenetic heterogeneity. Mitochondrial dysfunction is proving toconstitute one of the key pathogenic events in IRDs; hence,approaches that enhance mitochondrial activities have a promis-ing therapeutic potential for these conditions. We previouslyreported that miR- 181a/b downregulation boosts mitochondrial turnover in models of prim\n",
      "\n",
      "Processing file: 13023_2021_Article_2145.txt\n",
      "Detected encoding: utf-8 with confidence: 0.99\n",
      "Starting preprocessing... Initial word count: 6656\n",
      "Word count after clean_pdf_text: 6466\n",
      "Word count after remove_urls: 5662\n",
      "Word count after remove_emails: 5661\n",
      "Word count after remove_figures_tables: 5661\n",
      "Word count after remove_citations: 5620\n",
      "Word count after handle_special_characters: 5613\n",
      "Word count after remove_references: 5613\n"
     ]
    },
    {
     "name": "stderr",
     "output_type": "stream",
     "text": [
      "Batch 14: 100%|██████████| 2/2 [00:05<00:00,  2.87s/it]\n"
     ]
    },
    {
     "name": "stdout",
     "output_type": "stream",
     "text": [
      "Final word count after detect_sentence_boundaries: 5614\n",
      "Original Word Count: 6656\n",
      "Preprocessed Word Count: 5614\n",
      "Output text for 13023_2021_Article_2145.txt: Abstract:\n",
      "overview of genetic testing for IRDs, including the types of available testing, variant interpretation, and genetic counseling. Additionally, we will discuss the clinical applications of genetic testing in the molecular diagnosis of IRDs through case studies.\n",
      "\n",
      "Main Text:\n",
      "Keywords: Inherited retinal disease, Ophthalmology, Molecular diagnosis, Genetic testing, Genetic counseling, Case studies, Next-generation sequencing  The Author(s) . Open Access This article is licensed under a Creative Commons Attribution 4.0 International License, which permits use, sharing, adaptation, distribution and reproduction in any medium or format, as long as you give appropriate credit to the original author(s) and the source, provide a link to the Creative Commons licence, and indicate if changes were made. The images or other third party material in this article are included in the articles Creative Commons licence, unless indicated otherwise in a credit line to the material. If material is no\n",
      "\n",
      "Processing batch 15 of 26\n"
     ]
    },
    {
     "name": "stderr",
     "output_type": "stream",
     "text": [
      "Batch 15:   0%|          | 0/2 [00:00<?, ?it/s]"
     ]
    },
    {
     "name": "stdout",
     "output_type": "stream",
     "text": [
      "\n",
      "Processing file: nihms880229.txt\n",
      "Detected encoding: utf-8 with confidence: 0.99\n",
      "Starting preprocessing... Initial word count: 13391\n",
      "Word count after clean_pdf_text: 13197\n",
      "Word count after remove_urls: 7971\n",
      "Word count after remove_emails: 7971\n",
      "Word count after remove_figures_tables: 7970\n",
      "Word count after remove_citations: 7834\n",
      "Word count after handle_special_characters: 7728\n",
      "Word count after remove_references: 7728\n"
     ]
    },
    {
     "name": "stderr",
     "output_type": "stream",
     "text": [
      "Batch 15:  50%|█████     | 1/2 [00:01<00:01,  1.41s/it]"
     ]
    },
    {
     "name": "stdout",
     "output_type": "stream",
     "text": [
      "Final word count after detect_sentence_boundaries: 7736\n",
      "Original Word Count: 13391\n",
      "Preprocessed Word Count: 7736\n",
      "Output text for nihms880229.txt: Abstract:\n",
      "Clinically Focused Molecular Investigation of 1000 Consecutive Edwin M. Stone, M.D., Ph. D.1,3, Jeaneen L. Andorf, B.A.1,3, S. Scott Whitmore, Ph. D.1,3, Adam P. DeLuca, Ph. D.1,3, Joseph C. Giacalone, B.S.1,3, Luan M. Streb, B.A.1,3, Terry A. Braun, Ph. D.1,3, Robert F. Mullins, Ph. D.1,3, Todd E. Scheetz, Ph. D.1,3, Val C. Sheffield, M.D., Ph. D.1,2,3, and Budd A. Tucker, Ph. D.1,3 1Departments of Ophthalmology and Visual Sciences, the University of Iowa Carver College of Medicine, Iowa City, IA 2Pediatrics, the University of Iowa Carver College of Medicine, Iowa City, IA 3Stephen A. Wynn Institute for Vision Research, the University of Iowa, Iowa City, IA Purpose To devise a comprehensive multi-platform genetic testing strategy for inherited retinal disease and describe its performance in 1,000 consecutive families seen by a single clinician. Methods The clinical records of all patients seen by a single retina specialist between January  and June  were reviewed and all pat\n",
      "\n",
      "Processing file: ijms-22-04534.txt\n",
      "Detected encoding: utf-8 with confidence: 0.99\n",
      "Starting preprocessing... Initial word count: 12404\n",
      "Word count after clean_pdf_text: 12203\n",
      "Word count after remove_urls: 12202\n",
      "Word count after remove_emails: 12186\n",
      "Word count after remove_figures_tables: 12186\n",
      "Word count after remove_citations: 11973\n",
      "Word count after handle_special_characters: 11971\n",
      "Word count after remove_references: 11971\n"
     ]
    },
    {
     "name": "stderr",
     "output_type": "stream",
     "text": [
      "Batch 15: 100%|██████████| 2/2 [00:03<00:00,  1.88s/it]\n"
     ]
    },
    {
     "name": "stdout",
     "output_type": "stream",
     "text": [
      "Final word count after detect_sentence_boundaries: 11974\n",
      "Original Word Count: 12404\n",
      "Preprocessed Word Count: 11974\n",
      "Output text for ijms-22-04534.txt: Abstract:\n",
      "Abstract: Inherited retinal dystrophies (IRDs) are a group of rare eye diseases caused by gene mutations that result in the degradation of cone and rod photoreceptors or the retinal pigment epithelium. Retinal degradation progress is often irreversible, with clinical manifestations including color or night blindness, peripheral visual defects and subsequent vision loss. Thus, gene therapies that restore functional retinal proteins by either replenishing unmutated genes or truncating mutated genes are needed. Coincidentally, the eyes accessibility and immune-privileged status along with major advances in gene identification and gene delivery systems heralded gene therapies for IRDs. Among these clinical trials, voretigene neparvovec-rzyl (Luxturna), an adeno-associated virus vector-based gene therapy drug, was approved by the FDA for treating patients with confirmed biallelic RPE65 mutation-associated Leber Congenital Amaurosis (LCA) in . This review includes current IRD gene \n",
      "\n",
      "Processing batch 16 of 26\n"
     ]
    },
    {
     "name": "stderr",
     "output_type": "stream",
     "text": [
      "Batch 16:   0%|          | 0/2 [00:00<?, ?it/s]"
     ]
    },
    {
     "name": "stdout",
     "output_type": "stream",
     "text": [
      "\n",
      "Processing file: opth-16-1127.txt\n",
      "Detected encoding: utf-8 with confidence: 0.99\n",
      "Starting preprocessing... Initial word count: 5294\n",
      "Word count after clean_pdf_text: 5158\n",
      "Word count after remove_urls: 2330\n",
      "Word count after remove_emails: 2329\n",
      "Word count after remove_figures_tables: 2327\n",
      "Word count after remove_citations: 2322\n",
      "Word count after handle_special_characters: 2321\n",
      "Word count after remove_references: 2321\n",
      "Final word count after detect_sentence_boundaries: 2328\n"
     ]
    },
    {
     "name": "stderr",
     "output_type": "stream",
     "text": [
      "Batch 16:  50%|█████     | 1/2 [00:00<00:00,  1.08it/s]"
     ]
    },
    {
     "name": "stdout",
     "output_type": "stream",
     "text": [
      "Original Word Count: 5294\n",
      "Preprocessed Word Count: 2328\n",
      "Output text for opth-16-1127.txt: Abstract:\n",
      "1, Yuanzhang Jiao2, Alexis Ceecee Britten-Jones 1,3,4, Nathan M Kerr 5, Lyndell Lim3,5, Simon Skalicky 5, Richard Stawell5, Lauren N Ayton1,3,4, Heather G Mack 35 1Department of Optometry and Vision Sciences, University of Melbourne, Melbourne, Victoria, Australia;2University Hospital Geelong, Geelong, Victoria, Australia;3Centre for Eye Research Australia, Royal Victorian Eye and Ear Hospital, Melbourne, Victoria, Australia;4Ophthalmology, Department of Surgery, University of Melbourne, Melbourne, Victoria, Australia;5Eye Surgery Associates, East Melbourne, Victoria, Australia Correspondence: Lauren N Ayton, Email  Background: To assess the prevalence of genetic testing for inherited retinal diseases (IRDs) in a tertiary practice setting. Methods: Single-centre retrospective analysis of patients with diagnosed or suspected IRD. Results:Fourhundredandsixty-fourpatientrecordswereanalysed.PatientshadreceivedcarefordifferentIRDsgroupedasfollows: panretinal pigmentary retinopathi\n",
      "\n",
      "Processing file: PIIS0039625723001030.txt\n",
      "Detected encoding: utf-8 with confidence: 0.99\n",
      "Starting preprocessing... Initial word count: 14639\n",
      "Word count after clean_pdf_text: 14243\n",
      "Word count after remove_urls: 11872\n",
      "Word count after remove_emails: 11871\n",
      "Word count after remove_figures_tables: 11871\n",
      "Word count after remove_citations: 11778\n",
      "Word count after handle_special_characters: 11744\n",
      "Word count after remove_references: 11744\n"
     ]
    },
    {
     "name": "stderr",
     "output_type": "stream",
     "text": [
      "Batch 16: 100%|██████████| 2/2 [00:03<00:00,  1.60s/it]\n"
     ]
    },
    {
     "name": "stdout",
     "output_type": "stream",
     "text": [
      "Final word count after detect_sentence_boundaries: 11745\n",
      "Original Word Count: 14639\n",
      "Preprocessed Word Count: 11745\n",
      "Output text for PIIS0039625723001030.txt: Abstract:\n",
      "Overview Inherited retinal diseases (IRDs) comprise a heterogenous group of monogenic diseases exhibiting autosomal dominant or recessive, X-linked, and mitochondrial inheritance patterns. Despite the approval of voretigene neparvovec-rzyl (LuxturnaTM), for an extremely rare form of RPE65-associated retinopathy, this group of diseases remains the most common cause of blindness in working-age adults.67,102 Sight-threatening complications, such as cystoid macular edema, foveoschisis, macular hole, macular pucker, vitelliform lesions, foveal atrophy, and macular neovascularization (MNV), occur across a spectrum of IRDs. The widespread availability of anti-vascular endothelial growth factor (anti-VEGF) agents has led to their frequent use in IRDrelated MNV, often with little or no level III evidence of efficacy.15,143 It is imperative that we understand the natural history of IRD-related MNV to avoid overtreatment, as these lesions may be stable for long periods after a short cou\n",
      "\n",
      "Processing batch 17 of 26\n"
     ]
    },
    {
     "name": "stderr",
     "output_type": "stream",
     "text": [
      "Batch 17:   0%|          | 0/2 [00:00<?, ?it/s]"
     ]
    },
    {
     "name": "stdout",
     "output_type": "stream",
     "text": [
      "\n",
      "Processing file: diagnostics-13-00850.txt\n",
      "Detected encoding: utf-8 with confidence: 0.99\n",
      "Starting preprocessing... Initial word count: 6465\n",
      "Word count after clean_pdf_text: 6287\n",
      "Word count after remove_urls: 6286\n",
      "Word count after remove_emails: 6286\n",
      "Word count after remove_figures_tables: 6286\n",
      "Word count after remove_citations: 6171\n",
      "Word count after handle_special_characters: 6169\n",
      "Word count after remove_references: 6169\n"
     ]
    },
    {
     "name": "stderr",
     "output_type": "stream",
     "text": [
      "Batch 17:  50%|█████     | 1/2 [00:01<00:01,  1.28s/it]"
     ]
    },
    {
     "name": "stdout",
     "output_type": "stream",
     "text": [
      "Final word count after detect_sentence_boundaries: 6172\n",
      "Original Word Count: 6465\n",
      "Preprocessed Word Count: 6172\n",
      "Output text for diagnostics-13-00850.txt: Abstract:\n",
      "Abstract: Background. Eyes shut homolog (EYS) gene mutations are estimated to affect at least 5% of patients with autosomal recessive retinitis pigmentosa. Since there is no mammalian model of human EYS disease, it is important to investigate its age-related changes and the degree of central retinal impairment. Methods. A cohort of EYS patients was studied. They underwent full ophthalmic examination as well as assessment of retinal function and structure, by full-field and focal electroretinograms (ERGs) and spectral domain optical coherence tomography (OCT), respectively. The disease severity stage was determined by the RP stage scoring system (RP-SSS). Central retina atrophy (CRA) was estimated from the automatically calculated area of the sub-retinal pigment epithelium (RPE) illumination (SRI). Results. The RP-SSS was positively correlated with age, showing an advanced severity score ( \u00158) at an age of 45 and a disease duration of 15 years. The RP-SSS was positively correl\n",
      "\n",
      "Processing file: main copy.txt\n",
      "Detected encoding: utf-8 with confidence: 0.99\n",
      "Starting preprocessing... Initial word count: 6770\n",
      "Word count after clean_pdf_text: 6631\n",
      "Word count after remove_urls: 5973\n",
      "Word count after remove_emails: 5973\n",
      "Word count after remove_figures_tables: 5973\n",
      "Word count after remove_citations: 5965\n",
      "Word count after handle_special_characters: 5961\n",
      "Word count after remove_references: 5961\n"
     ]
    },
    {
     "name": "stderr",
     "output_type": "stream",
     "text": [
      "Batch 17: 100%|██████████| 2/2 [00:02<00:00,  1.23s/it]\n"
     ]
    },
    {
     "name": "stdout",
     "output_type": "stream",
     "text": [
      "Final word count after detect_sentence_boundaries: 5969\n",
      "Original Word Count: 6770\n",
      "Preprocessed Word Count: 5969\n",
      "Output text for main copy.txt: Abstract:\n",
      "overview of classi fication, management and outcomes. Indian J Ophthalmol . ;67:763 e771. 4.Dorji P, Raval V, Jalali S, et al. Coats disease in India: clinical presentation and outcome in 675 patients (690 eyes). Int Ophthalmol . ;43:531 e540. 5.Fernandes BF, Odashiro AN, Maloney S, et al. Clinical-histopathological correlation in a case of Coats disease. Diagn Pathol . ;1:24 . 6.Egbert PR, Chan CC, Winter FC. Flat preparations of the retinal vessels in Coats disease. J Pediatr Ophthalmol . ;13:336 e339. 7.Coats G. Forms of retinal disease with massive exudation. Roy London Ophthalmol Hosp Rep . ;17:440 e525.8.Shields JA, Shields CL, Honavar SG, et al. Classi fication and management of Coats disease: the  Proctor Lecture. Am J Ophthalmol . ;131:572 e583. 9.Oli A, Balakrishnan D, Jalali S. Coats disease: trends and long-term treatment outcomes in a tertiary referral centre. Ther Adv Ophthalmol . ;13:25158 414211055956 . 10.Daich Varela M, Esener B, Hashem S, et al. Structural \n",
      "\n",
      "Processing batch 18 of 26\n"
     ]
    },
    {
     "name": "stderr",
     "output_type": "stream",
     "text": [
      "Batch 18:   0%|          | 0/2 [00:00<?, ?it/s]"
     ]
    },
    {
     "name": "stdout",
     "output_type": "stream",
     "text": [
      "\n",
      "Processing file: 41598_2021_Article_81093.txt\n",
      "Detected encoding: utf-8 with confidence: 0.99\n",
      "Starting preprocessing... Initial word count: 9359\n",
      "Word count after clean_pdf_text: 9284\n",
      "Word count after remove_urls: 9282\n",
      "Word count after remove_emails: 9282\n",
      "Word count after remove_figures_tables: 9282\n",
      "Word count after remove_citations: 9229\n",
      "Word count after handle_special_characters: 9226\n",
      "Word count after remove_references: 9226\n"
     ]
    },
    {
     "name": "stderr",
     "output_type": "stream",
     "text": [
      "Batch 18:  50%|█████     | 1/2 [00:01<00:01,  1.80s/it]"
     ]
    },
    {
     "name": "stdout",
     "output_type": "stream",
     "text": [
      "Final word count after detect_sentence_boundaries: 9228\n",
      "Original Word Count: 9359\n",
      "Preprocessed Word Count: 9228\n",
      "Output text for 41598_2021_Article_81093.txt: Abstract:\n",
      "overview of the largest cohort of IRD patients ever reported worldwide and related to IRD in the Spanish population. The presented data includes the presumed inheritance pattern for the different phenotypic subtypes, mutational spectrum, prevalence of genes carrying likely pathogenic variants and the recurrence of disease related variants. Prevalence of IRD in Spain. The number of cases diagnosed as having IRD in our hospital (until August ) was 6089, and the last Spanish population registry accounted for 46,722,980 habitants giving us a minimal prevalence of 1:7673 (confidence interval (CI):1:74851:7871). Regional distribution of cases and prevalence can be seen in Fig. 1A,B. Considering a worldwide IRD prevalence of 1:1000240001, our cohort would represent 2053% of the total patients with IRD in Spain as shown in Supplementary Table S1. For non-syndromic IRD, our cohort was grouped in 2 categories: 1703 affected individuals (1335 families), in cone-dominated phenotypesherea\n",
      "\n",
      "Processing file: jci-133-171356.txt\n",
      "Detected encoding: utf-8 with confidence: 0.99\n",
      "Starting preprocessing... Initial word count: 12253\n",
      "Word count after clean_pdf_text: 12042\n",
      "Word count after remove_urls: 11711\n",
      "Word count after remove_emails: 11710\n",
      "Word count after remove_figures_tables: 11710\n",
      "Word count after remove_citations: 11699\n",
      "Word count after handle_special_characters: 11617\n",
      "Word count after remove_references: 11617\n"
     ]
    },
    {
     "name": "stderr",
     "output_type": "stream",
     "text": [
      "Batch 18: 100%|██████████| 2/2 [00:03<00:00,  1.99s/it]\n"
     ]
    },
    {
     "name": "stdout",
     "output_type": "stream",
     "text": [
      "Final word count after detect_sentence_boundaries: 11624\n",
      "Original Word Count: 12253\n",
      "Preprocessed Word Count: 11624\n",
      "Output text for jci-133-171356.txt: Abstract:\n",
      "The Journal of Clinical Investigation RESEARCH ARTICLE1 Leber congenital amaurosis type 16 (LCA16; OMIM #614186) is a severe autosomal recessive inherited retinal dystrophy (IRD) leading to blindness in early life. LCA16 is caused by the loss of function of the Kir7 .1 potassium ion channel (encoded by the KCNJ13 gene, location 2q37 .1, OMIM #603208) in the apical processes of the retinal pigmented epithelium (RPE) cells of the eye (1, 2). The Kir7 .1 channel controls K+ homeostasis in the sub - retinal space, supporting photoreceptor-RPE cell-cell signaling in support of visual functions, such as phototransduction and phagocytosis. Several missense and nonsense loss-of-function mutations have been reported in KCNJ13, leading to diminished K+ conductance and altered electroretinogram (ERG) of the RPE (310) .There is no therapy available for LCA16 patients in the clinic. An LCA16 mouse model with biallelic mutations in Kcnj13 does not survive long enough to test and develop po\n",
      "\n",
      "Processing batch 19 of 26\n"
     ]
    },
    {
     "name": "stderr",
     "output_type": "stream",
     "text": [
      "Batch 19:   0%|          | 0/2 [00:00<?, ?it/s]"
     ]
    },
    {
     "name": "stdout",
     "output_type": "stream",
     "text": [
      "\n",
      "Processing file: nihms-1747988.txt\n",
      "Detected encoding: utf-8 with confidence: 0.99\n",
      "Starting preprocessing... Initial word count: 2181\n",
      "Word count after clean_pdf_text: 2167\n",
      "Word count after remove_urls: 2166\n",
      "Word count after remove_emails: 2166\n",
      "Word count after remove_figures_tables: 2166\n",
      "Word count after remove_citations: 2146\n",
      "Word count after handle_special_characters: 2145\n",
      "Word count after remove_references: 2145\n"
     ]
    },
    {
     "name": "stderr",
     "output_type": "stream",
     "text": [
      "Batch 19:  50%|█████     | 1/2 [00:00<00:00,  2.09it/s]"
     ]
    },
    {
     "name": "stdout",
     "output_type": "stream",
     "text": [
      "Final word count after detect_sentence_boundaries: 2145\n",
      "Original Word Count: 2181\n",
      "Preprocessed Word Count: 2145\n",
      "Output text for nihms-1747988.txt: Abstract:\n",
      "summary, although the cost of testing is decreasing and the ability to determine a genetic cause is increasing, it is paramount that the ordering physician be knowledgeable of the limitations of the positive as well as the supposedly negative results. Both the genes and variants that are known to be associated with disease are rapidly changing, and the panels are constantly undergoing changes themselves. It is therefore incumbent on the doctor who orders the test to understand the limitations of whichever panel he or she chooses. References: 1. Stone EM, Andorf JL, Whitmore SS, et al. Clinically Focused Molecular Investigation of 1000 Consecutive Families with Inherited Retinal Disease. Ophthalmology ;124(9):13141331. [PubMed: 28559085] 2. Ku CA, Hull S, Arno G, et al. Detailed clinical phenotype and molecular genetic findings in CLN3associated isolated retinal degeneration. JAMA Ophthalmol ;135(7): 749760. [PubMed: 28542676] 3. Weihbrecht K, Goar WA, Pak T, et al. Keeping an\n",
      "\n",
      "Processing file: main.txt\n",
      "Detected encoding: utf-8 with confidence: 0.99\n",
      "Starting preprocessing... Initial word count: 10799\n",
      "Word count after clean_pdf_text: 10340\n",
      "Word count after remove_urls: 8219\n",
      "Word count after remove_emails: 8219\n",
      "Word count after remove_figures_tables: 8218\n",
      "Word count after remove_citations: 8208\n",
      "Word count after handle_special_characters: 8205\n",
      "Word count after remove_references: 8205\n",
      "Final word count after detect_sentence_boundaries: 8219\n"
     ]
    },
    {
     "name": "stderr",
     "output_type": "stream",
     "text": [
      "Batch 19: 100%|██████████| 2/2 [00:08<00:00,  4.00s/it]\n"
     ]
    },
    {
     "name": "stdout",
     "output_type": "stream",
     "text": [
      "Original Word Count: 10799\n",
      "Preprocessed Word Count: 8219\n",
      "Output text for main.txt: Abstract:\n",
      "Whole-Genome Sequencing to Determine the Keren J. Carss,1,2,18Gavin Arno,2,3,4,18Marie Erwood,1,2Jonathan Stephens,1,2Alba Sanchis-Juan,1,2 Sarah Hull,3,4Karyn Megy,1,2Detelina Grozeva,2,5Eleanor Dewhurst,1,2Samantha Malka,3,4 Vincent Plagnol,6Christopher Penkett,1,2Kathleen Stirrups,1,2Roberta Rizzo,4Genevieve Wright,4 Dragana Josifova,2,7Maria Bitner-Glindzicz,2,8Richard H. Scott,2,9Emma Clement,2,10Louise Allen,2,11 Ruth Armstrong,2,12Angela F. Brady,2,13Jenny Carmichael,2,12Manali Chitre,2,12 Robert H.H. Henderson,2,4,10Jane Hurst,2,10Robert E. MacLaren,2,4,14Elaine Murphy,2,15 Joan Paterson,2,12Elisabeth Rosser,2,10Dorothy A. Thompson,2,16Emma Wakeling,2,13 Willem H. Ouwehand,1,2Michel Michaelides,2,3,4Anthony T. Moore,2,3,4,17NIHR-BioResource Rare Diseases Consortium, Andrew R. Webster,2,3,4,19and F. Lucy Raymond2,5,19,* Inherited retinal disease is a common cause of visual impairment and represents a highly heterogeneous group of conditions. Here, we present findings f\n",
      "\n",
      "Processing batch 20 of 26\n"
     ]
    },
    {
     "name": "stderr",
     "output_type": "stream",
     "text": [
      "Batch 20:   0%|          | 0/2 [00:00<?, ?it/s]"
     ]
    },
    {
     "name": "stdout",
     "output_type": "stream",
     "text": [
      "\n",
      "Processing file: genes-14-00074.txt\n",
      "Detected encoding: utf-8 with confidence: 0.99\n",
      "Starting preprocessing... Initial word count: 11321\n",
      "Word count after clean_pdf_text: 11209\n",
      "Word count after remove_urls: 11208\n",
      "Word count after remove_emails: 11207\n",
      "Word count after remove_figures_tables: 11207\n",
      "Word count after remove_citations: 11058\n",
      "Word count after handle_special_characters: 11054\n",
      "Word count after remove_references: 11054\n"
     ]
    },
    {
     "name": "stderr",
     "output_type": "stream",
     "text": [
      "Batch 20:  50%|█████     | 1/2 [00:02<00:02,  2.38s/it]"
     ]
    },
    {
     "name": "stdout",
     "output_type": "stream",
     "text": [
      "Final word count after detect_sentence_boundaries: 11080\n",
      "Original Word Count: 11321\n",
      "Preprocessed Word Count: 11080\n",
      "Output text for genes-14-00074.txt: Abstract:\n",
      "Abstract: The overlapping genetic and clinical spectrum in inherited retinal degeneration (IRD) creates challenges for accurate diagnoses. The goal of this work was to determine the genetic diagnosis and clinical features for patients diagnosed with an IRD. After signing informed consent, peripheral blood or saliva was collected from 64 patients diagnosed with an IRD. Genetic testing was performed on each patient in a Clinical Laboratory Improvement Amendments of  (CLIA) certified laboratory. Mutations were verified with Sanger sequencing and segregation analysis when possible. Visual acuity was measured with a traditional Snellen chart and converted to a logarithm of minimal angle of resolution (logMAR). Fundus images of dilated eyes were acquired with the Optoscamera (Dunfermline, UK). Horizontal line scans were obtained with spectraldomain optical coherence tomography (SDOCT; Spectralis, Heidelberg, Germany). Genetic testing combined with segregation analysis resolved mole\n",
      "\n",
      "Processing file: 13023_2023_Article_2798.txt\n",
      "Detected encoding: utf-8 with confidence: 0.99\n",
      "Starting preprocessing... Initial word count: 9596\n",
      "Word count after clean_pdf_text: 9301\n",
      "Word count after remove_urls: 9300\n",
      "Word count after remove_emails: 9299\n",
      "Word count after remove_figures_tables: 9298\n",
      "Word count after remove_citations: 9238\n",
      "Word count after handle_special_characters: 9221\n",
      "Word count after remove_references: 9221\n"
     ]
    },
    {
     "name": "stderr",
     "output_type": "stream",
     "text": [
      "Batch 20: 100%|██████████| 2/2 [00:04<00:00,  2.08s/it]\n"
     ]
    },
    {
     "name": "stdout",
     "output_type": "stream",
     "text": [
      "Final word count after detect_sentence_boundaries: 9226\n",
      "Original Word Count: 9596\n",
      "Preprocessed Word Count: 9226\n",
      "Output text for 13023_2023_Article_2798.txt: Abstract:\n",
      "overview of the non-syndromic generalized photoreceptor dystrophies, particularly retinitis pigmentosa and Leber congenital amaurosis. The clinical investigations and genetic testing needed to establish a diagnosis are outlined, and current management approaches are discussed, focusing on the importance of the involvement of an interdisciplinary team from diagnosis and initial care to long-term follow-up and support. Results The effective management of IRDs requires a multidisciplinary, and ideally interdisciplinary, team of experts knowledgeable about IRDs, with experienced professionals from fields as diverse as ophthalmology, neuropsychiatry, psychology, neurology, genetics, orthoptics, developmental therapy, typhlology, occupational therapy, otolaryngology, and orientation and mobility specialties. Accurate clinical diagnosis encompasses a range of objective and sub - jective assessments as a prerequisite for the genetic testing essential in establishing an accurate diagn\n",
      "\n",
      "Processing batch 21 of 26\n"
     ]
    },
    {
     "name": "stderr",
     "output_type": "stream",
     "text": [
      "Batch 21:   0%|          | 0/2 [00:00<?, ?it/s]"
     ]
    },
    {
     "name": "stdout",
     "output_type": "stream",
     "text": [
      "\n",
      "Processing file: nihpp-rs3011096v1-compressed.txt\n",
      "Detected encoding: utf-8 with confidence: 0.99\n",
      "Starting preprocessing... Initial word count: 14967\n",
      "Word count after clean_pdf_text: 14740\n",
      "Word count after remove_urls: 9183\n",
      "Word count after remove_emails: 9182\n",
      "Word count after remove_figures_tables: 9182\n",
      "Word count after remove_citations: 9181\n",
      "Word count after handle_special_characters: 9161\n",
      "Word count after remove_references: 9161\n"
     ]
    },
    {
     "name": "stderr",
     "output_type": "stream",
     "text": [
      "Batch 21:  50%|█████     | 1/2 [00:01<00:01,  1.76s/it]"
     ]
    },
    {
     "name": "stdout",
     "output_type": "stream",
     "text": [
      "Final word count after detect_sentence_boundaries: 9165\n",
      "Original Word Count: 14967\n",
      "Preprocessed Word Count: 9165\n",
      "Output text for nihpp-rs3011096v1-compressed.txt: Abstract:\n",
      "Summary data-based Mendelian randomization and colocalization analyses identify 87 target genes where methylation and gene-expression changes likely mediate the genotype effect on age-related macular degeneration (AMD). Integrated pathway analysis reveals epigenetic regulation of immune response and metabolism including the glutathione pathway and glycolysis. Our study thus de \u0000nes key roles of genetic variations driving methylation changes, prioritizes epigenetic control of gene expression, and suggests frameworks for regulation of AMD pathology by genotypeenvironment interaction in retina. Common healthy and disease traits in humans exhibit extensive variability, are largely multifactorial, and dictated by a complex interplay between genetic architecture and widely varying environments1. Genomic variations can impact phenotypes through genetic and epigenetic control of gene expression programs. Large genome-wide association studies (GWAS) have been effective in identifying \n",
      "\n",
      "Processing file: 12886_2023_Article_2772-compressed.txt\n",
      "Detected encoding: utf-8 with confidence: 0.99\n",
      "Starting preprocessing... Initial word count: 5270\n",
      "Word count after clean_pdf_text: 4943\n",
      "Word count after remove_urls: 4942\n",
      "Word count after remove_emails: 4941\n",
      "Word count after remove_figures_tables: 4941\n",
      "Word count after remove_citations: 4903\n",
      "Word count after handle_special_characters: 4822\n",
      "Word count after remove_references: 4822\n",
      "Final word count after detect_sentence_boundaries: 4825\n"
     ]
    },
    {
     "name": "stderr",
     "output_type": "stream",
     "text": [
      "Batch 21: 100%|██████████| 2/2 [00:03<00:00,  1.89s/it]\n"
     ]
    },
    {
     "name": "stdout",
     "output_type": "stream",
     "text": [
      "Original Word Count: 5270\n",
      "Preprocessed Word Count: 4825\n",
      "Output text for 12886_2023_Article_2772-compressed.txt: Abstract:\n",
      "BMC Ophthalmology  23:25  The Author(s) . Open Access This article is licensed under a Creative Commons Attribution 4.0 International License, which permits use, sharing, adaptation, distribution and reproduction in any medium or format, as long as you give appropriate credit to the original author(s) and the source, provide a link to the Creative Commons licence, and indicate if changes were made. The images or other third party material in this article are included in the articles Creative Commons licence, unless indicated otherwise in a credit line to the material. If material is not included in the articles Creative Commons licence and your intended use is not permitted by statutory regulation or exceeds the permitted use, you will need to obtain permission directly from the copyright holder. To view a copy of this licence, visit  cr . or g/ licen ses/ b y/4. 0/ . The Creative Commons Public Domain Dedication waiver ( cr mmons. or g/ publi cdoma in/ z ero/1. 0/ ) applies \n",
      "\n",
      "Processing batch 22 of 26\n"
     ]
    },
    {
     "name": "stderr",
     "output_type": "stream",
     "text": [
      "Batch 22:   0%|          | 0/2 [00:00<?, ?it/s]"
     ]
    },
    {
     "name": "stdout",
     "output_type": "stream",
     "text": [
      "\n",
      "Processing file: nihms-1927912.txt\n",
      "Detected encoding: utf-8 with confidence: 0.99\n",
      "Starting preprocessing... Initial word count: 10651\n",
      "Word count after clean_pdf_text: 10620\n",
      "Word count after remove_urls: 10618\n",
      "Word count after remove_emails: 10618\n",
      "Word count after remove_figures_tables: 10616\n",
      "Word count after remove_citations: 10412\n",
      "Word count after handle_special_characters: 10412\n",
      "Word count after remove_references: 10412\n"
     ]
    },
    {
     "name": "stderr",
     "output_type": "stream",
     "text": [
      "Batch 22:  50%|█████     | 1/2 [00:02<00:02,  2.41s/it]"
     ]
    },
    {
     "name": "stdout",
     "output_type": "stream",
     "text": [
      "Final word count after detect_sentence_boundaries: 10413\n",
      "Original Word Count: 10651\n",
      "Preprocessed Word Count: 10413\n",
      "Output text for nihms-1927912.txt: Abstract:\n",
      "summary of ophthalmologic features associated with IMDs. The full list can be accessed for free at  gamuts (last accessed 31-10-) and will be curated and updated on regular basis. Refer to Web version on PubMed Central for supplementary material. Acknowledgements: This work was supported, in part, by the Intramural Research Program of the National Human Genome Research Institute. 1. Ferreira CR, Hoffmann GF, Blau N  Clinical and biochemical footprints of inherited metabolic diseases. I. Movement disorders. Molecular genetics and metabolism 127 (1):2830. doi:10.1016/j.ymgme..03.007 [PubMed: 30928149] 2. Ferreira CR, Cassiman D, Blau N  Clinical and biochemical footprints of inherited metabolic diseases. II. Metabolic liver diseases. Molecular genetics and metabolism 127 (2):117 121. doi:10.1016/j.ymgme..04.002 [PubMed: 31005404]  Page 12 Mol Genet Metab . Author manuscript; available in PMC  September 24. Author Manuscript Author Manuscript Author Manuscript Author Manuscript3\n",
      "\n",
      "Processing file: biomolecules-13-00271.txt\n"
     ]
    },
    {
     "name": "stderr",
     "output_type": "stream",
     "text": [
      "ERROR:root:Error processing file biomolecules-13-00271.txt: 'charmap' codec can't decode byte 0x81 in position 3574: character maps to <undefined>\n",
      "Batch 22: 100%|██████████| 2/2 [00:02<00:00,  1.35s/it]\n"
     ]
    },
    {
     "name": "stdout",
     "output_type": "stream",
     "text": [
      "Detected encoding: Windows-1254 with confidence: 0.5271482271431448\n",
      "\n",
      "Processing batch 23 of 26\n"
     ]
    },
    {
     "name": "stderr",
     "output_type": "stream",
     "text": [
      "Batch 23:   0%|          | 0/2 [00:00<?, ?it/s]"
     ]
    },
    {
     "name": "stdout",
     "output_type": "stream",
     "text": [
      "\n",
      "Processing file: 41433_2022_Article_2262.txt\n",
      "Detected encoding: utf-8 with confidence: 0.99\n",
      "Starting preprocessing... Initial word count: 3491\n",
      "Word count after clean_pdf_text: 3432\n",
      "Word count after remove_urls: 3431\n",
      "Word count after remove_emails: 3430\n",
      "Word count after remove_figures_tables: 3430\n",
      "Word count after remove_citations: 3413\n",
      "Word count after handle_special_characters: 3409\n",
      "Word count after remove_references: 3409\n",
      "Final word count after detect_sentence_boundaries: 3417\n"
     ]
    },
    {
     "name": "stderr",
     "output_type": "stream",
     "text": [
      "Batch 23:  50%|█████     | 1/2 [00:01<00:01,  1.24s/it]ERROR:root:Error processing file biomolecules-12-00455-compressed.txt: 'charmap' codec can't decode byte 0x81 in position 666: character maps to <undefined>\n",
      "Batch 23: 100%|██████████| 2/2 [00:01<00:00,  1.46it/s]\n"
     ]
    },
    {
     "name": "stdout",
     "output_type": "stream",
     "text": [
      "Original Word Count: 3491\n",
      "Preprocessed Word Count: 3417\n",
      "Output text for 41433_2022_Article_2262.txt: Abstract:\n",
      "Retinal gene therapy in RPE-65 gene mediated inherited retinal Assad Jalil1, Tsveta Ivanova1, George Moussa1, Neil R. A. Parry1,2and Graeme C. M. Black1  The Author(s), under exclusive licence to The Royal College of Ophthalmologists  BACKGROUND: Voretigene neparvovec (VN) is a gene therapeutic agent for treatment of retinal dystrophies caused by bi-allelic RPE65 mutations. We illustrate, both the bene fits and pitfalls associated with ocular gene therapy in the same patient. METHODS: Two eyes of one patient with bi-allelic RPE65 mutations have been treated with VN. The clinical examinations included visual acuity (VA, in normal and low luminance), colour vision, contrast sensitivity, International Society for ClinicalElectrophysiology of Vision (ISCEV) standard retinal electrophysiology and dark-adapted full- field stimulus threshold (FST), Goldmann VF analysis and imaging studies, including optical coherence tomography (OCT) and auto fluorescence. These were performed at ba\n",
      "\n",
      "Processing file: biomolecules-12-00455-compressed.txt\n",
      "Detected encoding: Windows-1254 with confidence: 0.5284870954033503\n",
      "\n",
      "Processing batch 24 of 26\n"
     ]
    },
    {
     "name": "stderr",
     "output_type": "stream",
     "text": [
      "Batch 24:   0%|          | 0/2 [00:00<?, ?it/s]"
     ]
    },
    {
     "name": "stdout",
     "output_type": "stream",
     "text": [
      "\n",
      "Processing file: 1-s2.0-S1350946220300707-main-compressed.txt\n",
      "Detected encoding: utf-8 with confidence: 0.99\n",
      "Starting preprocessing... Initial word count: 35264\n",
      "Word count after clean_pdf_text: 35055\n",
      "Word count after remove_urls: 35053\n",
      "Word count after remove_emails: 35052\n",
      "Word count after remove_figures_tables: 35050\n",
      "Word count after remove_citations: 34048\n",
      "Word count after handle_special_characters: 34046\n",
      "Word count after remove_references: 34046\n"
     ]
    },
    {
     "name": "stderr",
     "output_type": "stream",
     "text": [
      "Batch 24:  50%|█████     | 1/2 [00:07<00:07,  7.11s/it]"
     ]
    },
    {
     "name": "stdout",
     "output_type": "stream",
     "text": [
      "Final word count after detect_sentence_boundaries: 34047\n",
      "Original Word Count: 35264\n",
      "Preprocessed Word Count: 34047\n",
      "Output text for 1-s2.0-S1350946220300707-main-compressed.txt: Abstract:\n",
      "ABSTRACT X-linked retinopathies represent a significant proportion of monogenic retinal disease. They include progressive and stationary conditions, with and without syndromic features. Many are X-linked recessive, but several exhibit a phenotype in female carriers, which can help establish diagnosis and yield insights into disease mechanisms. The presence of affected carriers can misleadingly suggest autosomal dominant inheritance. Some disorders (such as RPGR-associated retinopathy) show diverse phenotypes from variants in the same gene and also highlight limitations of current genetic sequencing methods. X-linked disease frequently arises from loss of function, implying potential for benefit from gene replacement strategies. We review X-inactivation and X-linked inheritance, and explore burden of disease attributable to X-linked genes in our clinically and genetically characterised retinal disease cohort, finding correlation between gene transcript length and numbers of fa\n",
      "\n",
      "Processing file: fgene-13-858556.txt\n",
      "Detected encoding: utf-8 with confidence: 0.99\n",
      "Starting preprocessing... Initial word count: 7171\n",
      "Word count after clean_pdf_text: 7081\n",
      "Word count after remove_urls: 5195\n",
      "Word count after remove_emails: 5193\n",
      "Word count after remove_figures_tables: 5193\n",
      "Word count after remove_citations: 5030\n",
      "Word count after handle_special_characters: 5029\n",
      "Word count after remove_references: 5029\n",
      "Final word count after detect_sentence_boundaries: 5037\n"
     ]
    },
    {
     "name": "stderr",
     "output_type": "stream",
     "text": [
      "Batch 24: 100%|██████████| 2/2 [00:09<00:00,  4.59s/it]\n"
     ]
    },
    {
     "name": "stdout",
     "output_type": "stream",
     "text": [
      "Original Word Count: 7171\n",
      "Preprocessed Word Count: 5037\n",
      "Output text for fgene-13-858556.txt: Abstract:\n",
      "Chitra Kannabiran1,2*, Deepika Parameswarappa2,3and Subhadra Jalali2,3 1Kallam Anji Reddy Molecular Genetics Laboratory, Prof Brien Holden Eye Research Centre, Hyderabad, India,2L. V. Prasad Eye Institute, Hyderabad, India,3Smt Kannuri Santhamma Centre for Retina Vitreous Services, Hyderabad, India Retinitis pigmentosa is one of the major forms of inherited retinal dystrophy transmitted in all Mendelian and non-Mendelian forms of inheritance. It involves the loss of retinalphotoreceptor cells with severe loss of vision or blindness within the first 2 decades of life. RP occurs at a relatively high prevalence in India and is often associated with consanguinity in certain South Asian communities where this practice is customary. This review describes the studies that have been published with regard to genetics ofretinitis pigmentosa in India and neighboring South Asian countries. These populationshave been understudied in these aspects although to a variable degree from one cou\n",
      "\n",
      "Processing batch 25 of 26\n"
     ]
    },
    {
     "name": "stderr",
     "output_type": "stream",
     "text": [
      "Batch 25:   0%|          | 0/2 [00:00<?, ?it/s]"
     ]
    },
    {
     "name": "stdout",
     "output_type": "stream",
     "text": [
      "\n",
      "Processing file: 13287_2023_Article_3526.txt\n",
      "Detected encoding: utf-8 with confidence: 0.99\n",
      "Starting preprocessing... Initial word count: 7407\n",
      "Word count after clean_pdf_text: 7160\n",
      "Word count after remove_urls: 5815\n",
      "Word count after remove_emails: 5815\n",
      "Word count after remove_figures_tables: 5815\n",
      "Word count after remove_citations: 5622\n",
      "Word count after handle_special_characters: 5594\n",
      "Word count after remove_references: 5594\n",
      "Final word count after detect_sentence_boundaries: 5595\n"
     ]
    },
    {
     "name": "stderr",
     "output_type": "stream",
     "text": [
      "Batch 25:  50%|█████     | 1/2 [00:02<00:02,  2.09s/it]"
     ]
    },
    {
     "name": "stdout",
     "output_type": "stream",
     "text": [
      "Original Word Count: 7407\n",
      "Preprocessed Word Count: 5595\n",
      "Output text for 13287_2023_Article_3526.txt: Abstract:\n",
      "Stem Cell Research & Therapy  14:286 diseases: a systematic review and meta-analysis Xiaodong Chen1,2,3, Ningda Xu1,2,3, Jiarui Li1,2,3, Mingwei Zhao1,2,3 and Lvzhen Huang1,2,3* Purpose Stem cell therapy is a promising therapeutic approach for inherited retinal diseases (IRDs). This study aims to quantitatively examine the effectiveness and safety of stem cell therapy for patients with IRDs, including retinitis pigmentosa and Stargardt disease (STGD). Methods We searched PubMed, EMBASE, Web of Science, Cochrane Library databases, and the ClinicalTrials.gov website. The latest retrieval time was August 20, . The primary outcomes were rates and mean difference (MD) of best-corrected visual acuity (BCVA) improvement. Subgroup analyses were conducted according to administration routes and stem cell types. This study was registered with PROSPERO (CRD42022349271). Results Twenty-one prospective studies, involving 496 eyes (404 RP and 92 STGD) of 382 patients (306 RP and 76 STGD), w\n",
      "\n",
      "Processing file: fphar-12-654445.txt\n",
      "Detected encoding: utf-8 with confidence: 0.99\n",
      "Starting preprocessing... Initial word count: 6794\n",
      "Word count after clean_pdf_text: 6678\n",
      "Word count after remove_urls: 6676\n",
      "Word count after remove_emails: 6674\n",
      "Word count after remove_figures_tables: 6674\n",
      "Word count after remove_citations: 6385\n",
      "Word count after handle_special_characters: 6384\n",
      "Word count after remove_references: 6384\n",
      "Final word count after detect_sentence_boundaries: 6390\n"
     ]
    },
    {
     "name": "stderr",
     "output_type": "stream",
     "text": [
      "Batch 25: 100%|██████████| 2/2 [00:03<00:00,  1.96s/it]\n"
     ]
    },
    {
     "name": "stdout",
     "output_type": "stream",
     "text": [
      "Original Word Count: 6794\n",
      "Preprocessed Word Count: 6390\n",
      "Output text for fphar-12-654445.txt: Abstract:\n",
      "summary, elevation of adenosine signaling represents a positive response of RPE cells to AMD. Muller cells intimately contact neurons and non-neural structures providing for uptake of neurotransmitters fromextracellular space, as well as controlling retinal potassium andwater homeostasis to maintain the extracellular space volume(,  ). Activation of P2X7 depolarizes Muller cells, thus decreasing the rate of the glial glutamate uptake resulting in elevated extracellular glutamate levels. Glutamatergic neurotransmission evokes ion currents whichlead to osmotic imbalances and a swelling of neuronal cellsbodies and synapses ( ,  ). Intense neuronal activity also decreases extracellular osmolarity due to theactivity-dependent decrease in extracellular sodium chloridewhich is approximately twice as large as the increase inextracellular potassium ( ,  ). Then, decreased extracellular osmolarity and the uptake of neuron-derivedosmolytes contribute to Muller cells swelling and retinal\n",
      "\n",
      "Processing batch 26 of 26\n"
     ]
    },
    {
     "name": "stderr",
     "output_type": "stream",
     "text": [
      "Batch 26:   0%|          | 0/1 [00:00<?, ?it/s]"
     ]
    },
    {
     "name": "stdout",
     "output_type": "stream",
     "text": [
      "\n",
      "Processing file: cells-12-02579-compressed.txt\n",
      "Detected encoding: utf-8 with confidence: 0.99\n",
      "Starting preprocessing... Initial word count: 15466\n",
      "Word count after clean_pdf_text: 15294\n",
      "Word count after remove_urls: 15293\n",
      "Word count after remove_emails: 15291\n",
      "Word count after remove_figures_tables: 15291\n",
      "Word count after remove_citations: 15161\n",
      "Word count after handle_special_characters: 15145\n",
      "Word count after remove_references: 15145\n"
     ]
    },
    {
     "name": "stderr",
     "output_type": "stream",
     "text": [
      "Batch 26: 100%|██████████| 1/1 [00:02<00:00,  2.84s/it]"
     ]
    },
    {
     "name": "stdout",
     "output_type": "stream",
     "text": [
      "Final word count after detect_sentence_boundaries: 15146\n",
      "Original Word Count: 15466\n",
      "Preprocessed Word Count: 15146\n",
      "Output text for cells-12-02579-compressed.txt: Abstract:\n",
      "Abstract: Familial Exudative Vitreoretinopathy (FEVR), Norrie disease, and persistent fetal vascular syndrome (PFVS) are extremely rare retinopathies that are clinically distinct but are unified by abnormal retinal endothelial cell function, and subsequent irregular retinal vascular development and/or aberrant inner blood-retinal-barrier (iBRB) function. The early angiogenesis of the retina and its iBRB is a delicate process that is mediated by the canonical Norrin Wnt-signaling pathway in retinal endothelial cells. Pathogenic variants in genes that play key roles within this pathway, such as NDP, FZD4, TSPAN12, andLRP5, have been associated with the incidence of these retinal diseases. Recent efforts to further elucidate the etiology of these conditions have not only highlighted their multigenic nature but have also resulted in the discovery of pathological variants in additional genes such as CTNNB1, KIF11, and ZNF408, some of which operate outside of the Norrin Wntsignalin\n",
      "\n",
      "Processing completed.\n",
      "Preprocessing and entity extraction complete.\n"
     ]
    },
    {
     "name": "stderr",
     "output_type": "stream",
     "text": [
      "\n"
     ]
    }
   ],
   "source": [
    "if __name__ == \"__main__\":\n",
    "    # input_folder = \"/mnt/data/skanda/MSc_IRD_LLM/data/txt_data\"\n",
    "    input_folder = \"/mnt/scratch/skanda/MSc_IRD_LLM/data/txt_data\"\n",
    "    output_folder = \"/mnt/scratch/skanda/MSc_IRD_LLM/data/data_preprocessed\"\n",
    "    entities_path = \"/mnt/scratch/skanda/MSc_IRD_LLM/data/Entities/\"\n",
    "    process_files(input_folder, output_folder, entities_path, batch_size=2)\n",
    "    print(\"Preprocessing and entity extraction complete.\")"
   ]
  },
  {
   "cell_type": "code",
   "execution_count": 11,
   "metadata": {},
   "outputs": [
    {
     "name": "stdout",
     "output_type": "stream",
     "text": [
      "Processing file: processed_41598_2021_Article_81093.txt\n",
      "Successfully processed and saved: processed_41598_2021_Article_81093.txt\n",
      "Processing file: processed_IJO-70-2316.txt\n",
      "Successfully processed and saved: processed_IJO-70-2316.txt\n",
      "Processing file: processed_main.txt\n",
      "Successfully processed and saved: processed_main.txt\n",
      "Processing file: processed_MGG3-9-e1663.txt\n",
      "Successfully processed and saved: processed_MGG3-9-e1663.txt\n",
      "Processing file: processed_13287_2023_Article_3526.txt\n",
      "Successfully processed and saved: processed_13287_2023_Article_3526.txt\n",
      "Processing file: processed_main copy.txt\n",
      "Successfully processed and saved: processed_main copy.txt\n",
      "Processing file: processed_nihms-1927912.txt\n",
      "Successfully processed and saved: processed_nihms-1927912.txt\n",
      "Processing file: processed_10.1177_2515841420954592.txt\n",
      "Successfully processed and saved: processed_10.1177_2515841420954592.txt\n",
      "Processing file: processed_main (1).txt\n",
      "Successfully processed and saved: processed_main (1).txt\n",
      "Processing file: processed_1-s2.0-S1350946220300707-main-compressed.txt\n",
      "Successfully processed and saved: processed_1-s2.0-S1350946220300707-main-compressed.txt\n",
      "Processing file: processed_TJP-600-4623.txt\n",
      "Successfully processed and saved: processed_TJP-600-4623.txt\n",
      "Processing file: processed_genes-12-00147.txt\n",
      "Successfully processed and saved: processed_genes-12-00147.txt\n",
      "Processing file: processed_nihms-1567493.txt\n",
      "Successfully processed and saved: processed_nihms-1567493.txt\n",
      "Processing file: processed_fgene-13-858556.txt\n",
      "Successfully processed and saved: processed_fgene-13-858556.txt\n",
      "Processing file: processed_12886_2023_Article_2772-compressed.txt\n",
      "Successfully processed and saved: processed_12886_2023_Article_2772-compressed.txt\n",
      "Processing file: processed_emss-80329.txt\n",
      "Successfully processed and saved: processed_emss-80329.txt\n",
      "Processing file: processed_nihms880229.txt\n",
      "Successfully processed and saved: processed_nihms880229.txt\n",
      "Processing file: processed_opth-16-1127.txt\n",
      "Successfully processed and saved: processed_opth-16-1127.txt\n",
      "Processing file: processed_bjophthalmol-2020-315878.txt\n",
      "Successfully processed and saved: processed_bjophthalmol-2020-315878.txt\n",
      "Processing file: processed_ijms-22-07207.txt\n",
      "Successfully processed and saved: processed_ijms-22-07207.txt\n",
      "Processing file: processed_ijms-22-04534.txt\n",
      "Successfully processed and saved: processed_ijms-22-04534.txt\n",
      "Processing file: processed_13023_2023_Article_2798.txt\n",
      "Successfully processed and saved: processed_13023_2023_Article_2798.txt\n",
      "Processing file: processed_jmedgenet-2016-103837.txt\n",
      "Successfully processed and saved: processed_jmedgenet-2016-103837.txt\n",
      "Processing file: processed_nihms-1685213.txt\n",
      "Successfully processed and saved: processed_nihms-1685213.txt\n",
      "Processing file: processed_41525_2021_Article_180.txt\n",
      "Successfully processed and saved: processed_41525_2021_Article_180.txt\n",
      "Processing file: processed_cells-12-02579-compressed.txt\n",
      "Successfully processed and saved: processed_cells-12-02579-compressed.txt\n",
      "Processing file: processed_nihms-1914935.txt\n",
      "Successfully processed and saved: processed_nihms-1914935.txt\n",
      "Processing file: processed_PIIS0039625723001030.txt\n",
      "Successfully processed and saved: processed_PIIS0039625723001030.txt\n",
      "Processing file: processed_TJO-53-44.txt\n",
      "Successfully processed and saved: processed_TJO-53-44.txt\n",
      "Processing file: processed_diagnostics-13-00850.txt\n",
      "Successfully processed and saved: processed_diagnostics-13-00850.txt\n",
      "Processing file: processed_Acta Ophthalmologica - 2019 - Holtan - Inherited retinal disease in Norway   a characterization of current clinical and.txt\n",
      "Successfully processed and saved: processed_Acta Ophthalmologica - 2019 - Holtan - Inherited retinal disease in Norway   a characterization of current clinical and.txt\n",
      "Processing file: processed_jci-133-171356.txt\n",
      "Successfully processed and saved: processed_jci-133-171356.txt\n",
      "Processing file: processed_fphar-12-654445.txt\n",
      "Successfully processed and saved: processed_fphar-12-654445.txt\n",
      "Processing file: processed_41436_2020_Article_759.txt\n",
      "Successfully processed and saved: processed_41436_2020_Article_759.txt\n",
      "Processing file: processed_iovs-63-2-11.txt\n",
      "Successfully processed and saved: processed_iovs-63-2-11.txt\n",
      "Processing file: processed_JCO-34-80.txt\n",
      "Successfully processed and saved: processed_JCO-34-80.txt\n",
      "Processing file: processed_1-s2.0-S1350946221000367-main.txt\n",
      "Successfully processed and saved: processed_1-s2.0-S1350946221000367-main.txt\n",
      "Processing file: processed_nihms-1747988.txt\n",
      "Successfully processed and saved: processed_nihms-1747988.txt\n",
      "Processing file: processed_ijms-22-05684.txt\n",
      "Successfully processed and saved: processed_ijms-22-05684.txt\n",
      "Processing file: processed_genes-14-00074.txt\n",
      "Successfully processed and saved: processed_genes-14-00074.txt\n",
      "Processing file: processed_EMMM-14-e15941-compressed.txt\n",
      "Successfully processed and saved: processed_EMMM-14-e15941-compressed.txt\n",
      "Processing file: processed_nihms-1933615.txt\n",
      "Successfully processed and saved: processed_nihms-1933615.txt\n",
      "Processing file: processed_41433_2022_Article_2262.txt\n",
      "Successfully processed and saved: processed_41433_2022_Article_2262.txt\n",
      "Processing file: processed_13023_2021_Article_2145.txt\n",
      "Successfully processed and saved: processed_13023_2021_Article_2145.txt\n",
      "Processing file: processed_jcm-12-06953.txt\n",
      "Successfully processed and saved: processed_jcm-12-06953.txt\n",
      "Processing file: processed_1-s2.0-S1350946223000447-main.txt\n",
      "Successfully processed and saved: processed_1-s2.0-S1350946223000447-main.txt\n",
      "Processing file: processed_nihpp-rs3011096v1-compressed.txt\n",
      "Successfully processed and saved: processed_nihpp-rs3011096v1-compressed.txt\n",
      "Processing file: processed_NRR-18-701.txt\n",
      "Successfully processed and saved: processed_NRR-18-701.txt\n"
     ]
    }
   ],
   "source": [
    "def separate_abstract_and_main_text(preprocessed_text: str) -> tuple:\n",
    "    \"\"\"\n",
    "    Separates the abstract and main text from the given preprocessed text.\n",
    "    \n",
    "    :param preprocessed_text: The input text containing both abstract and main text.\n",
    "    :return: A tuple containing the abstract and main text as separate strings.\n",
    "    \"\"\"\n",
    "    abstract_marker = \"Abstract:\"\n",
    "    main_text_marker = \"Main Text:\"\n",
    "    \n",
    "    # Find the start of the abstract\n",
    "    abstract_start = preprocessed_text.find(abstract_marker)\n",
    "    # Find the start of the main text\n",
    "    main_text_start = preprocessed_text.find(main_text_marker)\n",
    "    \n",
    "    # Extract abstract and main text\n",
    "    if abstract_start != -1 and main_text_start != -1:\n",
    "        abstract = preprocessed_text[abstract_start + len(abstract_marker):main_text_start].strip()\n",
    "        main_text = preprocessed_text[main_text_start + len(main_text_marker):].strip()\n",
    "    else:\n",
    "        raise ValueError(\"The text does not contain the required markers for Abstract and Main Text.\")\n",
    "    \n",
    "    return abstract, main_text\n",
    "\n",
    "def process_preprocessed_files(input_folder_path: str, output_folder_path: str) -> None:\n",
    "    \"\"\"\n",
    "    Processes all .txt files in the input folder, separates abstracts and main texts,\n",
    "    and saves them into the output folder.\n",
    "    \n",
    "    :param input_folder_path: The path to the input folder containing .txt files.\n",
    "    :param output_folder_path: The path to the output folder where separated files will be saved.\n",
    "    \"\"\"\n",
    "    if not os.path.exists(output_folder_path):\n",
    "        os.makedirs(output_folder_path)\n",
    "    \n",
    "    # Get a list of all .txt files in the input directory\n",
    "    files = [f for f in os.listdir(input_folder_path) if f.endswith('.txt')]\n",
    "    \n",
    "    for filename in files:\n",
    "        input_file_path = os.path.join(input_folder_path, filename)\n",
    "        print(f\"Processing file: {filename}\")\n",
    "        \n",
    "        try:\n",
    "            # Read the content of the file\n",
    "            with open(input_file_path, 'r', encoding='utf-8') as file:\n",
    "                file_content = file.read()\n",
    "            \n",
    "            # Separate abstract and main text\n",
    "            abstract, main_text = separate_abstract_and_main_text(file_content)\n",
    "            \n",
    "            # Define paths for the abstract and main text files\n",
    "            abstract_output_path = os.path.join(output_folder_path, f\"{filename[:-4]}_abstract.txt\")\n",
    "            main_text_output_path = os.path.join(output_folder_path, f\"{filename[:-4]}_main_text.txt\")\n",
    "            \n",
    "            # Save the abstract\n",
    "            with open(abstract_output_path, 'w', encoding='utf-8') as abstract_file:\n",
    "                abstract_file.write(abstract)\n",
    "            \n",
    "            # Save the main text\n",
    "            with open(main_text_output_path, 'w', encoding='utf-8') as main_text_file:\n",
    "                main_text_file.write(main_text)\n",
    "            \n",
    "            print(f\"Successfully processed and saved: {filename}\")\n",
    "        \n",
    "        except Exception as e:\n",
    "            print(f\"Error processing file {filename}: {str(e)}\")\n",
    "\n",
    "input_folder = '/mnt/scratch/skanda/MSc_IRD_LLM/data/data_preprocessed'\n",
    "output_folder = '/mnt/scratch/skanda/MSc_IRD_LLM/data/data_separated'\n",
    "\n",
    "process_preprocessed_files(input_folder, output_folder)"
   ]
  }
 ],
 "metadata": {
  "kernelspec": {
   "display_name": "gpu",
   "language": "python",
   "name": "python3"
  },
  "language_info": {
   "codemirror_mode": {
    "name": "ipython",
    "version": 3
   },
   "file_extension": ".py",
   "mimetype": "text/x-python",
   "name": "python",
   "nbconvert_exporter": "python",
   "pygments_lexer": "ipython3",
   "version": "3.10.12"
  }
 },
 "nbformat": 4,
 "nbformat_minor": 2
}
