{
 "cells": [
  {
   "cell_type": "code",
   "execution_count": 1,
   "metadata": {},
   "outputs": [
    {
     "name": "stdout",
     "output_type": "stream",
     "text": [
      "Requirement already satisfied: nltk in /mnt/data/skanda/mambaforge/envs/gpu/lib/python3.9/site-packages (3.8.1)\n",
      "Requirement already satisfied: joblib in /mnt/data/skanda/mambaforge/envs/gpu/lib/python3.9/site-packages (from nltk) (1.2.0)\n",
      "Requirement already satisfied: tqdm in /mnt/data/skanda/mambaforge/envs/gpu/lib/python3.9/site-packages (from nltk) (4.64.1)\n",
      "Requirement already satisfied: click in /mnt/data/skanda/mambaforge/envs/gpu/lib/python3.9/site-packages (from nltk) (8.1.3)\n",
      "Requirement already satisfied: regex>=2021.8.3 in /mnt/data/skanda/mambaforge/envs/gpu/lib/python3.9/site-packages (from nltk) (2023.12.25)\n"
     ]
    }
   ],
   "source": [
    "!pip install nltk"
   ]
  },
  {
   "cell_type": "code",
   "execution_count": 22,
   "metadata": {},
   "outputs": [],
   "source": [
    "import re\n",
    "import logging\n",
    "from nltk.tokenize import sent_tokenize\n",
    "\n",
    "\n",
    "def extract_abstract_or_equivalent(text):\n",
    "    \"\"\"Extract the abstract or equivalent section from the text.\"\"\"\n",
    "\n",
    "    \n",
    "    # Define patterns for sections that might be used as an abstract or its components\n",
    "    abstract_patterns = [\n",
    "        r'\\babstract\\b',\n",
    "        r'\\bbackground\\b',\n",
    "        r'\\bintroduction\\b',\n",
    "        r'\\bmethods\\b',\n",
    "        r'\\bresults\\b',\n",
    "        r'\\bconclusion\\b'\n",
    "    ]\n",
    "    \n",
    "    # Define patterns for the end of an abstract\n",
    "    end_patterns = [\n",
    "        r'\\bkeywords\\b',\n",
    "        r'\\breferences\\b',\n",
    "        r'\\backnowledgements\\b',\n",
    "        r'\\bconflict of interest\\b',\n",
    "        r'\\bauthor contributions\\b'\n",
    "    ]\n",
    "    \n",
    "    # Compile the patterns into regexes\n",
    "    abstract_regex = re.compile('|'.join(abstract_patterns), re.IGNORECASE)\n",
    "    end_regex = re.compile('|'.join(end_patterns), re.IGNORECASE)\n",
    "    \n",
    "    # Split text into sentences\n",
    "    sentences = sent_tokenize(text)\n",
    "    \n",
    "    abstract = []\n",
    "    in_abstract_section = False\n",
    "    abstract_components = set()\n",
    "    word_count = 0\n",
    "    \n",
    "    for sentence in sentences:\n",
    "        if abstract_regex.search(sentence):\n",
    "            in_abstract_section = True\n",
    "            match = abstract_regex.search(sentence)\n",
    "            component = match.group().lower()\n",
    "            abstract_components.add(component)\n",
    "            logging.info(f\"Abstract component detected: {component}\")\n",
    "            # Don't include the header in the abstract text\n",
    "            sentence = abstract_regex.sub('', sentence).strip()\n",
    "        elif in_abstract_section and end_regex.search(sentence):\n",
    "            break\n",
    "        \n",
    "        if in_abstract_section:\n",
    "            sentence_words = sentence.split()\n",
    "            if word_count + len(sentence_words) > 250:\n",
    "                # If adding this sentence would exceed 250 words, stop here\n",
    "                break\n",
    "            abstract.append(sentence)\n",
    "            word_count += len(sentence_words)\n",
    "    \n",
    "    # If no abstract was found, take the first few sentences as a fallback\n",
    "    if not abstract:\n",
    "        for sentence in sentences[:5]:\n",
    "            sentence_words = sentence.split()\n",
    "            if word_count + len(sentence_words) > 250:\n",
    "                break\n",
    "            abstract.append(sentence)\n",
    "            word_count += len(sentence_words)\n",
    "        if abstract:\n",
    "            logging.warning(\"No clear abstract section found. Using first few sentences as fallback.\")\n",
    "    \n",
    "    # Join the abstract sentences into a single text\n",
    "    extracted_text = ' '.join(abstract)\n",
    "    \n",
    "    # Additional checks: ensure the extracted text isn't too short\n",
    "    if word_count < 150:\n",
    "        logging.warning(f\"Extracted text too short: {word_count} words\")\n",
    "        return None\n",
    "    \n",
    "    logging.info(f\"Extracted abstract with {word_count} words. Components: {', '.join(abstract_components)}\")\n",
    "    \n",
    "    return extracted_text if abstract else None"
   ]
  }
 ],
 "metadata": {
  "kernelspec": {
   "display_name": "gpu",
   "language": "python",
   "name": "python3"
  },
  "language_info": {
   "codemirror_mode": {
    "name": "ipython",
    "version": 3
   },
   "file_extension": ".py",
   "mimetype": "text/x-python",
   "name": "python",
   "nbconvert_exporter": "python",
   "pygments_lexer": "ipython3",
   "version": "3.9.16"
  }
 },
 "nbformat": 4,
 "nbformat_minor": 2
}
