{
 "cells": [
  {
   "cell_type": "code",
   "execution_count": 1,
   "metadata": {},
   "outputs": [
    {
     "name": "stdout",
     "output_type": "stream",
     "text": [
      "Collecting pdfplumber\n",
      "  Downloading pdfplumber-0.11.1-py3-none-any.whl.metadata (39 kB)\n",
      "Collecting pdfminer.six==20231228 (from pdfplumber)\n",
      "  Downloading pdfminer.six-20231228-py3-none-any.whl.metadata (4.2 kB)\n",
      "Requirement already satisfied: Pillow>=9.1 in /Users/sandorkanda/miniconda3/lib/python3.9/site-packages (from pdfplumber) (9.3.0)\n",
      "Collecting pypdfium2>=4.18.0 (from pdfplumber)\n",
      "  Downloading pypdfium2-4.30.0-py3-none-macosx_10_13_x86_64.whl.metadata (48 kB)\n",
      "\u001b[2K     \u001b[90m━━━━━━━━━━━━━━━━━━━━━━━━━━━━━━━━━━━━━━━━\u001b[0m \u001b[32m48.5/48.5 kB\u001b[0m \u001b[31m1.5 MB/s\u001b[0m eta \u001b[36m0:00:00\u001b[0m\n",
      "\u001b[?25hRequirement already satisfied: charset-normalizer>=2.0.0 in /Users/sandorkanda/miniconda3/lib/python3.9/site-packages (from pdfminer.six==20231228->pdfplumber) (2.0.4)\n",
      "Requirement already satisfied: cryptography>=36.0.0 in /Users/sandorkanda/miniconda3/lib/python3.9/site-packages (from pdfminer.six==20231228->pdfplumber) (38.0.4)\n",
      "Requirement already satisfied: cffi>=1.12 in /Users/sandorkanda/miniconda3/lib/python3.9/site-packages (from cryptography>=36.0.0->pdfminer.six==20231228->pdfplumber) (1.15.1)\n",
      "Requirement already satisfied: pycparser in /Users/sandorkanda/miniconda3/lib/python3.9/site-packages (from cffi>=1.12->cryptography>=36.0.0->pdfminer.six==20231228->pdfplumber) (2.21)\n",
      "Downloading pdfplumber-0.11.1-py3-none-any.whl (57 kB)\n",
      "\u001b[2K   \u001b[90m━━━━━━━━━━━━━━━━━━━━━━━━━━━━━━━━━━━━━━━━\u001b[0m \u001b[32m57.9/57.9 kB\u001b[0m \u001b[31m782.4 kB/s\u001b[0m eta \u001b[36m0:00:00\u001b[0m\u001b[36m0:00:01\u001b[0m\n",
      "\u001b[?25hDownloading pdfminer.six-20231228-py3-none-any.whl (5.6 MB)\n",
      "\u001b[2K   \u001b[90m━━━━━━━━━━━━━━━━━━━━━━━━━━━━━━━━━━━━━━━━\u001b[0m \u001b[32m5.6/5.6 MB\u001b[0m \u001b[31m1.2 MB/s\u001b[0m eta \u001b[36m0:00:00\u001b[0m00:01\u001b[0m00:01\u001b[0m0m\n",
      "\u001b[?25hDownloading pypdfium2-4.30.0-py3-none-macosx_10_13_x86_64.whl (2.8 MB)\n",
      "\u001b[2K   \u001b[90m━━━━━━━━━━━━━━━━━━━━━━━━━━━━━━━━━━━━━━━━\u001b[0m \u001b[32m2.8/2.8 MB\u001b[0m \u001b[31m2.4 MB/s\u001b[0m eta \u001b[36m0:00:00\u001b[0m00:01\u001b[0m00:01\u001b[0m\n",
      "\u001b[?25hInstalling collected packages: pypdfium2, pdfminer.six, pdfplumber\n",
      "Successfully installed pdfminer.six-20231228 pdfplumber-0.11.1 pypdfium2-4.30.0\n"
     ]
    }
   ],
   "source": [
    "!pip install pdfplumber\n"
   ]
  },
  {
   "cell_type": "code",
   "execution_count": 2,
   "metadata": {},
   "outputs": [],
   "source": [
    "import pdfplumber\n",
    "import os"
   ]
  },
  {
   "cell_type": "code",
   "execution_count": 3,
   "metadata": {},
   "outputs": [
    {
     "name": "stdout",
     "output_type": "stream",
     "text": [
      "Converted /Users/sandorkanda/Library/CloudStorage/OneDrive-GoldsmithsCollege/1 Goldsmiths MSc Data Science and AI 2023-2024/FInal Project in Data Science IS71061B- (2023-24)/development/data_pdf/emss-80329.pdf to /Users/sandorkanda/Library/CloudStorage/OneDrive-GoldsmithsCollege/1 Goldsmiths MSc Data Science and AI 2023-2024/FInal Project in Data Science IS71061B- (2023-24)/development/data_/emss-80329.txt\n",
      "Converted /Users/sandorkanda/Library/CloudStorage/OneDrive-GoldsmithsCollege/1 Goldsmiths MSc Data Science and AI 2023-2024/FInal Project in Data Science IS71061B- (2023-24)/development/data_pdf/41598_2021_Article_81093.pdf to /Users/sandorkanda/Library/CloudStorage/OneDrive-GoldsmithsCollege/1 Goldsmiths MSc Data Science and AI 2023-2024/FInal Project in Data Science IS71061B- (2023-24)/development/data_/41598_2021_Article_81093.txt\n",
      "Converted /Users/sandorkanda/Library/CloudStorage/OneDrive-GoldsmithsCollege/1 Goldsmiths MSc Data Science and AI 2023-2024/FInal Project in Data Science IS71061B- (2023-24)/development/data_pdf/TJO-53-44.pdf to /Users/sandorkanda/Library/CloudStorage/OneDrive-GoldsmithsCollege/1 Goldsmiths MSc Data Science and AI 2023-2024/FInal Project in Data Science IS71061B- (2023-24)/development/data_/TJO-53-44.txt\n",
      "Converted /Users/sandorkanda/Library/CloudStorage/OneDrive-GoldsmithsCollege/1 Goldsmiths MSc Data Science and AI 2023-2024/FInal Project in Data Science IS71061B- (2023-24)/development/data_pdf/nihms-1914935.pdf to /Users/sandorkanda/Library/CloudStorage/OneDrive-GoldsmithsCollege/1 Goldsmiths MSc Data Science and AI 2023-2024/FInal Project in Data Science IS71061B- (2023-24)/development/data_/nihms-1914935.txt\n",
      "Converted /Users/sandorkanda/Library/CloudStorage/OneDrive-GoldsmithsCollege/1 Goldsmiths MSc Data Science and AI 2023-2024/FInal Project in Data Science IS71061B- (2023-24)/development/data_pdf/diagnostics-13-00850.pdf to /Users/sandorkanda/Library/CloudStorage/OneDrive-GoldsmithsCollege/1 Goldsmiths MSc Data Science and AI 2023-2024/FInal Project in Data Science IS71061B- (2023-24)/development/data_/diagnostics-13-00850.txt\n",
      "Converted /Users/sandorkanda/Library/CloudStorage/OneDrive-GoldsmithsCollege/1 Goldsmiths MSc Data Science and AI 2023-2024/FInal Project in Data Science IS71061B- (2023-24)/development/data_pdf/nihms-1927912.pdf to /Users/sandorkanda/Library/CloudStorage/OneDrive-GoldsmithsCollege/1 Goldsmiths MSc Data Science and AI 2023-2024/FInal Project in Data Science IS71061B- (2023-24)/development/data_/nihms-1927912.txt\n",
      "Converted /Users/sandorkanda/Library/CloudStorage/OneDrive-GoldsmithsCollege/1 Goldsmiths MSc Data Science and AI 2023-2024/FInal Project in Data Science IS71061B- (2023-24)/development/data_pdf/opth-16-1127.pdf to /Users/sandorkanda/Library/CloudStorage/OneDrive-GoldsmithsCollege/1 Goldsmiths MSc Data Science and AI 2023-2024/FInal Project in Data Science IS71061B- (2023-24)/development/data_/opth-16-1127.txt\n",
      "Converted /Users/sandorkanda/Library/CloudStorage/OneDrive-GoldsmithsCollege/1 Goldsmiths MSc Data Science and AI 2023-2024/FInal Project in Data Science IS71061B- (2023-24)/development/data_pdf/13023_2023_Article_2798.pdf to /Users/sandorkanda/Library/CloudStorage/OneDrive-GoldsmithsCollege/1 Goldsmiths MSc Data Science and AI 2023-2024/FInal Project in Data Science IS71061B- (2023-24)/development/data_/13023_2023_Article_2798.txt\n",
      "Converted /Users/sandorkanda/Library/CloudStorage/OneDrive-GoldsmithsCollege/1 Goldsmiths MSc Data Science and AI 2023-2024/FInal Project in Data Science IS71061B- (2023-24)/development/data_pdf/nihms-1747988.pdf to /Users/sandorkanda/Library/CloudStorage/OneDrive-GoldsmithsCollege/1 Goldsmiths MSc Data Science and AI 2023-2024/FInal Project in Data Science IS71061B- (2023-24)/development/data_/nihms-1747988.txt\n",
      "Converted /Users/sandorkanda/Library/CloudStorage/OneDrive-GoldsmithsCollege/1 Goldsmiths MSc Data Science and AI 2023-2024/FInal Project in Data Science IS71061B- (2023-24)/development/data_pdf/IJO-70-2316.pdf to /Users/sandorkanda/Library/CloudStorage/OneDrive-GoldsmithsCollege/1 Goldsmiths MSc Data Science and AI 2023-2024/FInal Project in Data Science IS71061B- (2023-24)/development/data_/IJO-70-2316.txt\n",
      "Converted /Users/sandorkanda/Library/CloudStorage/OneDrive-GoldsmithsCollege/1 Goldsmiths MSc Data Science and AI 2023-2024/FInal Project in Data Science IS71061B- (2023-24)/development/data_pdf/nihms-1685213.pdf to /Users/sandorkanda/Library/CloudStorage/OneDrive-GoldsmithsCollege/1 Goldsmiths MSc Data Science and AI 2023-2024/FInal Project in Data Science IS71061B- (2023-24)/development/data_/nihms-1685213.txt\n",
      "Converted /Users/sandorkanda/Library/CloudStorage/OneDrive-GoldsmithsCollege/1 Goldsmiths MSc Data Science and AI 2023-2024/FInal Project in Data Science IS71061B- (2023-24)/development/data_pdf/diagnostics-13-02413-compressed.pdf to /Users/sandorkanda/Library/CloudStorage/OneDrive-GoldsmithsCollege/1 Goldsmiths MSc Data Science and AI 2023-2024/FInal Project in Data Science IS71061B- (2023-24)/development/data_/diagnostics-13-02413-compressed.txt\n",
      "Converted /Users/sandorkanda/Library/CloudStorage/OneDrive-GoldsmithsCollege/1 Goldsmiths MSc Data Science and AI 2023-2024/FInal Project in Data Science IS71061B- (2023-24)/development/data_pdf/main.pdf to /Users/sandorkanda/Library/CloudStorage/OneDrive-GoldsmithsCollege/1 Goldsmiths MSc Data Science and AI 2023-2024/FInal Project in Data Science IS71061B- (2023-24)/development/data_/main.txt\n",
      "Converted /Users/sandorkanda/Library/CloudStorage/OneDrive-GoldsmithsCollege/1 Goldsmiths MSc Data Science and AI 2023-2024/FInal Project in Data Science IS71061B- (2023-24)/development/data_pdf/NRR-18-701.pdf to /Users/sandorkanda/Library/CloudStorage/OneDrive-GoldsmithsCollege/1 Goldsmiths MSc Data Science and AI 2023-2024/FInal Project in Data Science IS71061B- (2023-24)/development/data_/NRR-18-701.txt\n",
      "Converted /Users/sandorkanda/Library/CloudStorage/OneDrive-GoldsmithsCollege/1 Goldsmiths MSc Data Science and AI 2023-2024/FInal Project in Data Science IS71061B- (2023-24)/development/data_pdf/12886_2023_Article_2772-compressed.pdf to /Users/sandorkanda/Library/CloudStorage/OneDrive-GoldsmithsCollege/1 Goldsmiths MSc Data Science and AI 2023-2024/FInal Project in Data Science IS71061B- (2023-24)/development/data_/12886_2023_Article_2772-compressed.txt\n",
      "Converted /Users/sandorkanda/Library/CloudStorage/OneDrive-GoldsmithsCollege/1 Goldsmiths MSc Data Science and AI 2023-2024/FInal Project in Data Science IS71061B- (2023-24)/development/data_pdf/1-s2.0-S1350946221000367-main.pdf to /Users/sandorkanda/Library/CloudStorage/OneDrive-GoldsmithsCollege/1 Goldsmiths MSc Data Science and AI 2023-2024/FInal Project in Data Science IS71061B- (2023-24)/development/data_/1-s2.0-S1350946221000367-main.txt\n",
      "Converted /Users/sandorkanda/Library/CloudStorage/OneDrive-GoldsmithsCollege/1 Goldsmiths MSc Data Science and AI 2023-2024/FInal Project in Data Science IS71061B- (2023-24)/development/data_pdf/nihpp-rs3011096v1-compressed.pdf to /Users/sandorkanda/Library/CloudStorage/OneDrive-GoldsmithsCollege/1 Goldsmiths MSc Data Science and AI 2023-2024/FInal Project in Data Science IS71061B- (2023-24)/development/data_/nihpp-rs3011096v1-compressed.txt\n",
      "Converted /Users/sandorkanda/Library/CloudStorage/OneDrive-GoldsmithsCollege/1 Goldsmiths MSc Data Science and AI 2023-2024/FInal Project in Data Science IS71061B- (2023-24)/development/data_pdf/ijms-22-07207.pdf to /Users/sandorkanda/Library/CloudStorage/OneDrive-GoldsmithsCollege/1 Goldsmiths MSc Data Science and AI 2023-2024/FInal Project in Data Science IS71061B- (2023-24)/development/data_/ijms-22-07207.txt\n",
      "Converted /Users/sandorkanda/Library/CloudStorage/OneDrive-GoldsmithsCollege/1 Goldsmiths MSc Data Science and AI 2023-2024/FInal Project in Data Science IS71061B- (2023-24)/development/data_pdf/cells-12-02579-compressed.pdf to /Users/sandorkanda/Library/CloudStorage/OneDrive-GoldsmithsCollege/1 Goldsmiths MSc Data Science and AI 2023-2024/FInal Project in Data Science IS71061B- (2023-24)/development/data_/cells-12-02579-compressed.txt\n",
      "Converted /Users/sandorkanda/Library/CloudStorage/OneDrive-GoldsmithsCollege/1 Goldsmiths MSc Data Science and AI 2023-2024/FInal Project in Data Science IS71061B- (2023-24)/development/data_pdf/biomolecules-12-00455-compressed.pdf to /Users/sandorkanda/Library/CloudStorage/OneDrive-GoldsmithsCollege/1 Goldsmiths MSc Data Science and AI 2023-2024/FInal Project in Data Science IS71061B- (2023-24)/development/data_/biomolecules-12-00455-compressed.txt\n",
      "Converted /Users/sandorkanda/Library/CloudStorage/OneDrive-GoldsmithsCollege/1 Goldsmiths MSc Data Science and AI 2023-2024/FInal Project in Data Science IS71061B- (2023-24)/development/data_pdf/EMMM-14-e15941-compressed.pdf to /Users/sandorkanda/Library/CloudStorage/OneDrive-GoldsmithsCollege/1 Goldsmiths MSc Data Science and AI 2023-2024/FInal Project in Data Science IS71061B- (2023-24)/development/data_/EMMM-14-e15941-compressed.txt\n",
      "Converted /Users/sandorkanda/Library/CloudStorage/OneDrive-GoldsmithsCollege/1 Goldsmiths MSc Data Science and AI 2023-2024/FInal Project in Data Science IS71061B- (2023-24)/development/data_pdf/jcm-12-06953.pdf to /Users/sandorkanda/Library/CloudStorage/OneDrive-GoldsmithsCollege/1 Goldsmiths MSc Data Science and AI 2023-2024/FInal Project in Data Science IS71061B- (2023-24)/development/data_/jcm-12-06953.txt\n",
      "Converted /Users/sandorkanda/Library/CloudStorage/OneDrive-GoldsmithsCollege/1 Goldsmiths MSc Data Science and AI 2023-2024/FInal Project in Data Science IS71061B- (2023-24)/development/data_pdf/41436_2020_Article_759.pdf to /Users/sandorkanda/Library/CloudStorage/OneDrive-GoldsmithsCollege/1 Goldsmiths MSc Data Science and AI 2023-2024/FInal Project in Data Science IS71061B- (2023-24)/development/data_/41436_2020_Article_759.txt\n",
      "Converted /Users/sandorkanda/Library/CloudStorage/OneDrive-GoldsmithsCollege/1 Goldsmiths MSc Data Science and AI 2023-2024/FInal Project in Data Science IS71061B- (2023-24)/development/data_pdf/biomolecules-13-00271.pdf to /Users/sandorkanda/Library/CloudStorage/OneDrive-GoldsmithsCollege/1 Goldsmiths MSc Data Science and AI 2023-2024/FInal Project in Data Science IS71061B- (2023-24)/development/data_/biomolecules-13-00271.txt\n",
      "Converted /Users/sandorkanda/Library/CloudStorage/OneDrive-GoldsmithsCollege/1 Goldsmiths MSc Data Science and AI 2023-2024/FInal Project in Data Science IS71061B- (2023-24)/development/data_pdf/fgene-13-858556.pdf to /Users/sandorkanda/Library/CloudStorage/OneDrive-GoldsmithsCollege/1 Goldsmiths MSc Data Science and AI 2023-2024/FInal Project in Data Science IS71061B- (2023-24)/development/data_/fgene-13-858556.txt\n",
      "Converted /Users/sandorkanda/Library/CloudStorage/OneDrive-GoldsmithsCollege/1 Goldsmiths MSc Data Science and AI 2023-2024/FInal Project in Data Science IS71061B- (2023-24)/development/data_pdf/ijms-22-04534.pdf to /Users/sandorkanda/Library/CloudStorage/OneDrive-GoldsmithsCollege/1 Goldsmiths MSc Data Science and AI 2023-2024/FInal Project in Data Science IS71061B- (2023-24)/development/data_/ijms-22-04534.txt\n",
      "Converted /Users/sandorkanda/Library/CloudStorage/OneDrive-GoldsmithsCollege/1 Goldsmiths MSc Data Science and AI 2023-2024/FInal Project in Data Science IS71061B- (2023-24)/development/data_pdf/13023_2021_Article_2145.pdf to /Users/sandorkanda/Library/CloudStorage/OneDrive-GoldsmithsCollege/1 Goldsmiths MSc Data Science and AI 2023-2024/FInal Project in Data Science IS71061B- (2023-24)/development/data_/13023_2021_Article_2145.txt\n",
      "Converted /Users/sandorkanda/Library/CloudStorage/OneDrive-GoldsmithsCollege/1 Goldsmiths MSc Data Science and AI 2023-2024/FInal Project in Data Science IS71061B- (2023-24)/development/data_pdf/genes-14-00074.pdf to /Users/sandorkanda/Library/CloudStorage/OneDrive-GoldsmithsCollege/1 Goldsmiths MSc Data Science and AI 2023-2024/FInal Project in Data Science IS71061B- (2023-24)/development/data_/genes-14-00074.txt\n",
      "Converted /Users/sandorkanda/Library/CloudStorage/OneDrive-GoldsmithsCollege/1 Goldsmiths MSc Data Science and AI 2023-2024/FInal Project in Data Science IS71061B- (2023-24)/development/data_pdf/JCO-34-80.pdf to /Users/sandorkanda/Library/CloudStorage/OneDrive-GoldsmithsCollege/1 Goldsmiths MSc Data Science and AI 2023-2024/FInal Project in Data Science IS71061B- (2023-24)/development/data_/JCO-34-80.txt\n",
      "Converted /Users/sandorkanda/Library/CloudStorage/OneDrive-GoldsmithsCollege/1 Goldsmiths MSc Data Science and AI 2023-2024/FInal Project in Data Science IS71061B- (2023-24)/development/data_pdf/MGG3-9-e1663.pdf to /Users/sandorkanda/Library/CloudStorage/OneDrive-GoldsmithsCollege/1 Goldsmiths MSc Data Science and AI 2023-2024/FInal Project in Data Science IS71061B- (2023-24)/development/data_/MGG3-9-e1663.txt\n",
      "Converted /Users/sandorkanda/Library/CloudStorage/OneDrive-GoldsmithsCollege/1 Goldsmiths MSc Data Science and AI 2023-2024/FInal Project in Data Science IS71061B- (2023-24)/development/data_pdf/nihms-1567493.pdf to /Users/sandorkanda/Library/CloudStorage/OneDrive-GoldsmithsCollege/1 Goldsmiths MSc Data Science and AI 2023-2024/FInal Project in Data Science IS71061B- (2023-24)/development/data_/nihms-1567493.txt\n",
      "Converted /Users/sandorkanda/Library/CloudStorage/OneDrive-GoldsmithsCollege/1 Goldsmiths MSc Data Science and AI 2023-2024/FInal Project in Data Science IS71061B- (2023-24)/development/data_pdf/iovs-63-2-11.pdf to /Users/sandorkanda/Library/CloudStorage/OneDrive-GoldsmithsCollege/1 Goldsmiths MSc Data Science and AI 2023-2024/FInal Project in Data Science IS71061B- (2023-24)/development/data_/iovs-63-2-11.txt\n",
      "Converted /Users/sandorkanda/Library/CloudStorage/OneDrive-GoldsmithsCollege/1 Goldsmiths MSc Data Science and AI 2023-2024/FInal Project in Data Science IS71061B- (2023-24)/development/data_pdf/10.1177_2515841420954592.pdf to /Users/sandorkanda/Library/CloudStorage/OneDrive-GoldsmithsCollege/1 Goldsmiths MSc Data Science and AI 2023-2024/FInal Project in Data Science IS71061B- (2023-24)/development/data_/10.1177_2515841420954592.txt\n",
      "Converted /Users/sandorkanda/Library/CloudStorage/OneDrive-GoldsmithsCollege/1 Goldsmiths MSc Data Science and AI 2023-2024/FInal Project in Data Science IS71061B- (2023-24)/development/data_pdf/main copy.pdf to /Users/sandorkanda/Library/CloudStorage/OneDrive-GoldsmithsCollege/1 Goldsmiths MSc Data Science and AI 2023-2024/FInal Project in Data Science IS71061B- (2023-24)/development/data_/main copy.txt\n",
      "Converted /Users/sandorkanda/Library/CloudStorage/OneDrive-GoldsmithsCollege/1 Goldsmiths MSc Data Science and AI 2023-2024/FInal Project in Data Science IS71061B- (2023-24)/development/data_pdf/13287_2023_Article_3526.pdf to /Users/sandorkanda/Library/CloudStorage/OneDrive-GoldsmithsCollege/1 Goldsmiths MSc Data Science and AI 2023-2024/FInal Project in Data Science IS71061B- (2023-24)/development/data_/13287_2023_Article_3526.txt\n",
      "Converted /Users/sandorkanda/Library/CloudStorage/OneDrive-GoldsmithsCollege/1 Goldsmiths MSc Data Science and AI 2023-2024/FInal Project in Data Science IS71061B- (2023-24)/development/data_pdf/bjophthalmol-2020-315878.pdf to /Users/sandorkanda/Library/CloudStorage/OneDrive-GoldsmithsCollege/1 Goldsmiths MSc Data Science and AI 2023-2024/FInal Project in Data Science IS71061B- (2023-24)/development/data_/bjophthalmol-2020-315878.txt\n",
      "Converted /Users/sandorkanda/Library/CloudStorage/OneDrive-GoldsmithsCollege/1 Goldsmiths MSc Data Science and AI 2023-2024/FInal Project in Data Science IS71061B- (2023-24)/development/data_pdf/fphar-12-654445.pdf to /Users/sandorkanda/Library/CloudStorage/OneDrive-GoldsmithsCollege/1 Goldsmiths MSc Data Science and AI 2023-2024/FInal Project in Data Science IS71061B- (2023-24)/development/data_/fphar-12-654445.txt\n",
      "Converted /Users/sandorkanda/Library/CloudStorage/OneDrive-GoldsmithsCollege/1 Goldsmiths MSc Data Science and AI 2023-2024/FInal Project in Data Science IS71061B- (2023-24)/development/data_pdf/jmedgenet-2016-103837.pdf to /Users/sandorkanda/Library/CloudStorage/OneDrive-GoldsmithsCollege/1 Goldsmiths MSc Data Science and AI 2023-2024/FInal Project in Data Science IS71061B- (2023-24)/development/data_/jmedgenet-2016-103837.txt\n",
      "Converted /Users/sandorkanda/Library/CloudStorage/OneDrive-GoldsmithsCollege/1 Goldsmiths MSc Data Science and AI 2023-2024/FInal Project in Data Science IS71061B- (2023-24)/development/data_pdf/Acta Ophthalmologica - 2019 - Holtan - Inherited retinal disease in Norway   a characterization of current clinical and.pdf to /Users/sandorkanda/Library/CloudStorage/OneDrive-GoldsmithsCollege/1 Goldsmiths MSc Data Science and AI 2023-2024/FInal Project in Data Science IS71061B- (2023-24)/development/data_/Acta Ophthalmologica - 2019 - Holtan - Inherited retinal disease in Norway   a characterization of current clinical and.txt\n",
      "Converted /Users/sandorkanda/Library/CloudStorage/OneDrive-GoldsmithsCollege/1 Goldsmiths MSc Data Science and AI 2023-2024/FInal Project in Data Science IS71061B- (2023-24)/development/data_pdf/1-s2.0-S1350946223000447-main.pdf to /Users/sandorkanda/Library/CloudStorage/OneDrive-GoldsmithsCollege/1 Goldsmiths MSc Data Science and AI 2023-2024/FInal Project in Data Science IS71061B- (2023-24)/development/data_/1-s2.0-S1350946223000447-main.txt\n",
      "Converted /Users/sandorkanda/Library/CloudStorage/OneDrive-GoldsmithsCollege/1 Goldsmiths MSc Data Science and AI 2023-2024/FInal Project in Data Science IS71061B- (2023-24)/development/data_pdf/jci-133-171356.pdf to /Users/sandorkanda/Library/CloudStorage/OneDrive-GoldsmithsCollege/1 Goldsmiths MSc Data Science and AI 2023-2024/FInal Project in Data Science IS71061B- (2023-24)/development/data_/jci-133-171356.txt\n",
      "Converted /Users/sandorkanda/Library/CloudStorage/OneDrive-GoldsmithsCollege/1 Goldsmiths MSc Data Science and AI 2023-2024/FInal Project in Data Science IS71061B- (2023-24)/development/data_pdf/ijms-22-05684.pdf to /Users/sandorkanda/Library/CloudStorage/OneDrive-GoldsmithsCollege/1 Goldsmiths MSc Data Science and AI 2023-2024/FInal Project in Data Science IS71061B- (2023-24)/development/data_/ijms-22-05684.txt\n",
      "Converted /Users/sandorkanda/Library/CloudStorage/OneDrive-GoldsmithsCollege/1 Goldsmiths MSc Data Science and AI 2023-2024/FInal Project in Data Science IS71061B- (2023-24)/development/data_pdf/nihms-1933615.pdf to /Users/sandorkanda/Library/CloudStorage/OneDrive-GoldsmithsCollege/1 Goldsmiths MSc Data Science and AI 2023-2024/FInal Project in Data Science IS71061B- (2023-24)/development/data_/nihms-1933615.txt\n",
      "Converted /Users/sandorkanda/Library/CloudStorage/OneDrive-GoldsmithsCollege/1 Goldsmiths MSc Data Science and AI 2023-2024/FInal Project in Data Science IS71061B- (2023-24)/development/data_pdf/main (1).pdf to /Users/sandorkanda/Library/CloudStorage/OneDrive-GoldsmithsCollege/1 Goldsmiths MSc Data Science and AI 2023-2024/FInal Project in Data Science IS71061B- (2023-24)/development/data_/main (1).txt\n",
      "Converted /Users/sandorkanda/Library/CloudStorage/OneDrive-GoldsmithsCollege/1 Goldsmiths MSc Data Science and AI 2023-2024/FInal Project in Data Science IS71061B- (2023-24)/development/data_pdf/PIIS0039625723001030.pdf to /Users/sandorkanda/Library/CloudStorage/OneDrive-GoldsmithsCollege/1 Goldsmiths MSc Data Science and AI 2023-2024/FInal Project in Data Science IS71061B- (2023-24)/development/data_/PIIS0039625723001030.txt\n",
      "Converted /Users/sandorkanda/Library/CloudStorage/OneDrive-GoldsmithsCollege/1 Goldsmiths MSc Data Science and AI 2023-2024/FInal Project in Data Science IS71061B- (2023-24)/development/data_pdf/TJP-600-4623.pdf to /Users/sandorkanda/Library/CloudStorage/OneDrive-GoldsmithsCollege/1 Goldsmiths MSc Data Science and AI 2023-2024/FInal Project in Data Science IS71061B- (2023-24)/development/data_/TJP-600-4623.txt\n",
      "Converted /Users/sandorkanda/Library/CloudStorage/OneDrive-GoldsmithsCollege/1 Goldsmiths MSc Data Science and AI 2023-2024/FInal Project in Data Science IS71061B- (2023-24)/development/data_pdf/41525_2021_Article_180.pdf to /Users/sandorkanda/Library/CloudStorage/OneDrive-GoldsmithsCollege/1 Goldsmiths MSc Data Science and AI 2023-2024/FInal Project in Data Science IS71061B- (2023-24)/development/data_/41525_2021_Article_180.txt\n",
      "Converted /Users/sandorkanda/Library/CloudStorage/OneDrive-GoldsmithsCollege/1 Goldsmiths MSc Data Science and AI 2023-2024/FInal Project in Data Science IS71061B- (2023-24)/development/data_pdf/genes-12-00147.pdf to /Users/sandorkanda/Library/CloudStorage/OneDrive-GoldsmithsCollege/1 Goldsmiths MSc Data Science and AI 2023-2024/FInal Project in Data Science IS71061B- (2023-24)/development/data_/genes-12-00147.txt\n",
      "Converted /Users/sandorkanda/Library/CloudStorage/OneDrive-GoldsmithsCollege/1 Goldsmiths MSc Data Science and AI 2023-2024/FInal Project in Data Science IS71061B- (2023-24)/development/data_pdf/nihms880229.pdf to /Users/sandorkanda/Library/CloudStorage/OneDrive-GoldsmithsCollege/1 Goldsmiths MSc Data Science and AI 2023-2024/FInal Project in Data Science IS71061B- (2023-24)/development/data_/nihms880229.txt\n",
      "Converted /Users/sandorkanda/Library/CloudStorage/OneDrive-GoldsmithsCollege/1 Goldsmiths MSc Data Science and AI 2023-2024/FInal Project in Data Science IS71061B- (2023-24)/development/data_pdf/41433_2022_Article_2262.pdf to /Users/sandorkanda/Library/CloudStorage/OneDrive-GoldsmithsCollege/1 Goldsmiths MSc Data Science and AI 2023-2024/FInal Project in Data Science IS71061B- (2023-24)/development/data_/41433_2022_Article_2262.txt\n"
     ]
    }
   ],
   "source": [
    "def convert_pdf_to_text(pdf_path, txt_path):\n",
    "    with pdfplumber.open(pdf_path) as pdf:\n",
    "        with open(txt_path, 'w') as txt_file:\n",
    "            for page in pdf.pages:\n",
    "                text = page.extract_text()\n",
    "                if text:\n",
    "                    txt_file.write(text + '\\n')\n",
    "\n",
    "def convert_all_pdfs_in_directory(input_directory, output_directory):\n",
    "    # Create output directory if it doesn't exist\n",
    "    if not os.path.exists(output_directory):\n",
    "        os.makedirs(output_directory)\n",
    "\n",
    "    for filename in os.listdir(input_directory):\n",
    "        if filename.endswith('.pdf'):\n",
    "            pdf_path = os.path.join(input_directory, filename)\n",
    "            txt_filename = os.path.splitext(filename)[0] + '.txt'\n",
    "            txt_path = os.path.join(output_directory, txt_filename)\n",
    "            convert_pdf_to_text(pdf_path, txt_path)\n",
    "            print(f\"Converted {pdf_path} to {txt_path}\")\n",
    "\n",
    "input_directory = '/Users/sandorkanda/Library/CloudStorage/OneDrive-GoldsmithsCollege/1 Goldsmiths MSc Data Science and AI 2023-2024/FInal Project in Data Science IS71061B- (2023-24)/development/data_pdf'\n",
    "output_directory = '/Users/sandorkanda/Library/CloudStorage/OneDrive-GoldsmithsCollege/1 Goldsmiths MSc Data Science and AI 2023-2024/FInal Project in Data Science IS71061B- (2023-24)/development/data_'\n",
    "convert_all_pdfs_in_directory(input_directory, output_directory)\n",
    "\n",
    "\n",
    "\n"
   ]
  },
  {
   "cell_type": "code",
   "execution_count": 1,
   "metadata": {},
   "outputs": [
    {
     "name": "stdout",
     "output_type": "stream",
     "text": [
      "Requirement already satisfied: PyPDF2 in /Users/sandorkanda/miniconda3/lib/python3.9/site-packages (3.0.1)\n",
      "Requirement already satisfied: typing_extensions>=3.10.0.0 in /Users/sandorkanda/miniconda3/lib/python3.9/site-packages (from PyPDF2) (4.10.0)\n",
      "\n",
      "\u001b[1m[\u001b[0m\u001b[34;49mnotice\u001b[0m\u001b[1;39;49m]\u001b[0m\u001b[39;49m A new release of pip is available: \u001b[0m\u001b[31;49m24.0\u001b[0m\u001b[39;49m -> \u001b[0m\u001b[32;49m24.1.1\u001b[0m\n",
      "\u001b[1m[\u001b[0m\u001b[34;49mnotice\u001b[0m\u001b[1;39;49m]\u001b[0m\u001b[39;49m To update, run: \u001b[0m\u001b[32;49mpip install --upgrade pip\u001b[0m\n"
     ]
    }
   ],
   "source": [
    "!pip install PyPDF2"
   ]
  },
  {
   "cell_type": "code",
   "execution_count": 2,
   "metadata": {},
   "outputs": [
    {
     "name": "stdout",
     "output_type": "stream",
     "text": [
      "Converted emss-80329.pdf to emss-80329.txt\n",
      "Converted 41598_2021_Article_81093.pdf to 41598_2021_Article_81093.txt\n",
      "Converted TJO-53-44.pdf to TJO-53-44.txt\n",
      "Converted nihms-1914935.pdf to nihms-1914935.txt\n",
      "Converted diagnostics-13-00850.pdf to diagnostics-13-00850.txt\n",
      "Converted nihms-1927912.pdf to nihms-1927912.txt\n",
      "Converted opth-16-1127.pdf to opth-16-1127.txt\n",
      "Converted 13023_2023_Article_2798.pdf to 13023_2023_Article_2798.txt\n",
      "Converted nihms-1747988.pdf to nihms-1747988.txt\n",
      "Converted IJO-70-2316.pdf to IJO-70-2316.txt\n",
      "Converted nihms-1685213.pdf to nihms-1685213.txt\n",
      "Converted diagnostics-13-02413-compressed.pdf to diagnostics-13-02413-compressed.txt\n",
      "Converted main.pdf to main.txt\n",
      "Converted NRR-18-701.pdf to NRR-18-701.txt\n",
      "Converted 12886_2023_Article_2772-compressed.pdf to 12886_2023_Article_2772-compressed.txt\n",
      "Converted 1-s2.0-S1350946221000367-main.pdf to 1-s2.0-S1350946221000367-main.txt\n",
      "Converted nihpp-rs3011096v1-compressed.pdf to nihpp-rs3011096v1-compressed.txt\n",
      "Converted ijms-22-07207.pdf to ijms-22-07207.txt\n",
      "Converted cells-12-02579-compressed.pdf to cells-12-02579-compressed.txt\n",
      "Converted biomolecules-12-00455-compressed.pdf to biomolecules-12-00455-compressed.txt\n",
      "Converted EMMM-14-e15941-compressed.pdf to EMMM-14-e15941-compressed.txt\n",
      "Converted jcm-12-06953.pdf to jcm-12-06953.txt\n",
      "Converted 41436_2020_Article_759.pdf to 41436_2020_Article_759.txt\n",
      "Converted biomolecules-13-00271.pdf to biomolecules-13-00271.txt\n",
      "Converted fgene-13-858556.pdf to fgene-13-858556.txt\n",
      "Converted ijms-22-04534.pdf to ijms-22-04534.txt\n",
      "Converted 13023_2021_Article_2145.pdf to 13023_2021_Article_2145.txt\n",
      "Converted genes-14-00074.pdf to genes-14-00074.txt\n",
      "Converted JCO-34-80.pdf to JCO-34-80.txt\n",
      "Converted MGG3-9-e1663.pdf to MGG3-9-e1663.txt\n",
      "Converted nihms-1567493.pdf to nihms-1567493.txt\n",
      "Converted iovs-63-2-11.pdf to iovs-63-2-11.txt\n",
      "Converted 10.1177_2515841420954592.pdf to 10.1177_2515841420954592.txt\n",
      "Converted main copy.pdf to main copy.txt\n",
      "Converted 13287_2023_Article_3526.pdf to 13287_2023_Article_3526.txt\n",
      "Converted bjophthalmol-2020-315878.pdf to bjophthalmol-2020-315878.txt\n",
      "Converted fphar-12-654445.pdf to fphar-12-654445.txt\n",
      "Converted jmedgenet-2016-103837.pdf to jmedgenet-2016-103837.txt\n",
      "Converted Acta Ophthalmologica - 2019 - Holtan - Inherited retinal disease in Norway   a characterization of current clinical and.pdf to Acta Ophthalmologica - 2019 - Holtan - Inherited retinal disease in Norway   a characterization of current clinical and.txt\n",
      "Converted 1-s2.0-S1350946223000447-main.pdf to 1-s2.0-S1350946223000447-main.txt\n",
      "Converted jci-133-171356.pdf to jci-133-171356.txt\n",
      "Converted ijms-22-05684.pdf to ijms-22-05684.txt\n",
      "Converted nihms-1933615.pdf to nihms-1933615.txt\n",
      "Converted main (1).pdf to main (1).txt\n",
      "Converted PIIS0039625723001030.pdf to PIIS0039625723001030.txt\n",
      "Converted TJP-600-4623.pdf to TJP-600-4623.txt\n",
      "Converted 41525_2021_Article_180.pdf to 41525_2021_Article_180.txt\n",
      "Converted genes-12-00147.pdf to genes-12-00147.txt\n",
      "Converted nihms880229.pdf to nihms880229.txt\n",
      "Converted 41433_2022_Article_2262.pdf to 41433_2022_Article_2262.txt\n",
      "Conversion complete. TXT files saved in the 'txt_data' folder.\n"
     ]
    }
   ],
   "source": [
    "import os\n",
    "import PyPDF2\n",
    "\n",
    "# Define the input and output directories\n",
    "input_dir = '/Users/sandorkanda/Library/CloudStorage/OneDrive-GoldsmithsCollege/1 Goldsmiths MSc Data Science and AI 2023-2024/FInal Project in Data Science IS71061B- (2023-24)/development/data_pdf'\n",
    "output_dir = os.path.join(os.path.dirname(input_dir), 'txt_data')\n",
    "\n",
    "# Create the output directory if it doesn't exist\n",
    "os.makedirs(output_dir, exist_ok=True)\n",
    "\n",
    "# Iterate through all files in the input directory\n",
    "for filename in os.listdir(input_dir):\n",
    "    if filename.endswith('.pdf'):\n",
    "        pdf_path = os.path.join(input_dir, filename)\n",
    "        txt_filename = os.path.splitext(filename)[0] + '.txt'\n",
    "        txt_path = os.path.join(output_dir, txt_filename)\n",
    "        \n",
    "        # Open the PDF file\n",
    "        with open(pdf_path, 'rb') as pdf_file:\n",
    "            pdf_reader = PyPDF2.PdfReader(pdf_file)\n",
    "            \n",
    "            # Extract text from each page\n",
    "            text = ''\n",
    "            for page in pdf_reader.pages:\n",
    "                text += page.extract_text()\n",
    "            \n",
    "            # Write the extracted text to a new TXT file\n",
    "            with open(txt_path, 'w', encoding='utf-8') as txt_file:\n",
    "                txt_file.write(text)\n",
    "        \n",
    "        print(f\"Converted {filename} to {txt_filename}\")\n",
    "\n",
    "print(\"Conversion complete. TXT files saved in the 'txt_data' folder.\")"
   ]
  }
 ],
 "metadata": {
  "kernelspec": {
   "display_name": "Python 3",
   "language": "python",
   "name": "python3"
  },
  "language_info": {
   "codemirror_mode": {
    "name": "ipython",
    "version": 3
   },
   "file_extension": ".py",
   "mimetype": "text/x-python",
   "name": "python",
   "nbconvert_exporter": "python",
   "pygments_lexer": "ipython3",
   "version": "3.9.15"
  }
 },
 "nbformat": 4,
 "nbformat_minor": 2
}
